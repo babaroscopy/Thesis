{
  "nbformat": 4,
  "nbformat_minor": 0,
  "metadata": {
    "kernelspec": {
      "display_name": "Python 3",
      "language": "python",
      "name": "python3"
    },
    "language_info": {
      "codemirror_mode": {
        "name": "ipython",
        "version": 3
      },
      "file_extension": ".py",
      "mimetype": "text/x-python",
      "name": "python",
      "nbconvert_exporter": "python",
      "pygments_lexer": "ipython3",
      "version": "3.8.5"
    },
    "colab": {
      "provenance": [],
      "collapsed_sections": [
        "rRRKqVFt81oe"
      ],
      "include_colab_link": true
    }
  },
  "cells": [
    {
      "cell_type": "markdown",
      "metadata": {
        "id": "view-in-github",
        "colab_type": "text"
      },
      "source": [
        "<a href=\"https://colab.research.google.com/github/babaroscopy/Thesis/blob/main/Thesis_RPN.ipynb\" target=\"_parent\"><img src=\"https://colab.research.google.com/assets/colab-badge.svg\" alt=\"Open In Colab\"/></a>"
      ]
    },
    {
      "cell_type": "code",
      "metadata": {
        "id": "2iv3APRH81oE"
      },
      "source": [
        "from tensorflow import keras\n",
        "from tensorflow.keras.layers import Conv2D, Input\n",
        "from tensorflow.keras.models import Model\n",
        "from tensorflow.keras.losses import BinaryCrossentropy, MeanSquaredError\n",
        "import tensorflow as tf\n",
        "import tensorflow.keras.backend as K\n",
        "import numpy as np\n",
        "import pandas as pd\n",
        "import matplotlib.pyplot as plt\n",
        "import cv2\n",
        "from urllib import request\n",
        "from tensorflow.keras import initializers\n",
        "np.set_printoptions(suppress=True)"
      ],
      "execution_count": 1,
      "outputs": []
    },
    {
      "cell_type": "code",
      "metadata": {
        "id": "uSExvtVm81oK",
        "outputId": "4a3458f3-667d-43e6-8a76-99cdcae1fe7e",
        "colab": {
          "base_uri": "https://localhost:8080/"
        }
      },
      "source": [
        "'''\n",
        "# Download test image\n",
        "request.urlretrieve(\"https://i.imgur.com/XjeiRMV.jpg\", \"test.JPG\")\n",
        "'''"
      ],
      "execution_count": null,
      "outputs": [
        {
          "output_type": "execute_result",
          "data": {
            "text/plain": [
              "('test.JPG', <http.client.HTTPMessage at 0x7f97a47a2210>)"
            ]
          },
          "metadata": {},
          "execution_count": 2
        }
      ]
    },
    {
      "cell_type": "code",
      "metadata": {
        "id": "ejA04v4d81oL"
      },
      "source": [
        "\n",
        "def to_VOC_format(width, height, center_x, center_y):\n",
        "    \"\"\"\n",
        "    Convert center coordinate format to min max coordinateformat\n",
        "    \"\"\"\n",
        "    x_min = center_x - 0.5 * width\n",
        "    y_min = center_y - 0.5 * height\n",
        "    x_max = center_x + 0.5 * width\n",
        "    y_max = center_y + 0.5 * height\n",
        "    return x_min, y_min, x_max, y_max\n",
        "\n",
        "def to_center_format(xmin_list, ymin_list, xmax_list, ymax_list):\n",
        "    \"\"\"\n",
        "    Convert min max coordinate format to x_center, y_center, height and width format\n",
        "    \"\"\"\n",
        "    height = ymax_list - ymin_list\n",
        "    width = xmax_list - xmin_list\n",
        "    \n",
        "    center_x = xmin_list + 0.5 * width\n",
        "    center_y = ymin_list + 0.5 * height\n",
        "    \n",
        "    return width, height, center_x, center_y\n",
        "\n",
        "def adjust_deltas(anchor_width, anchor_height, anchor_center_x, achor_center_y, dx, dy, dw, dh):\n",
        "    \"\"\"\n",
        "    Adjust the anchor box with predicted offset\n",
        "    \"\"\"\n",
        "    # ctr_x = dx * anc_width[:, np.newaxis] + anc_ctr_x[:, np.newaxis]\n",
        "    center_x = dx * anchor_width + anchor_center_x \n",
        "    \n",
        "    # ctr_y = dy * anc_height[:, np.newaxis] + anc_ctr_y[:, np.newaxis]\n",
        "    center_y = dy *  anchor_height + anchor_center_y\n",
        "    \n",
        "    # w = np.exp(dw) * anc_width[:, np.newaxis]\n",
        "    width = np.exp(dw) * anchor_width\n",
        "    \n",
        "    # np.exp(dh) * anc_height[:, np.newaxis]\n",
        "    height = np.exp(dh) * anchor_height\n",
        "    \n",
        "    return width, height, center_x, center_y\n",
        "\n",
        "def compute_deltas(base_center_x, base_center_y, base_width, base_height, inside_anchor_width, inside_anchor_height, inside_anchor_center_x, inside_anchor_center_y):\n",
        "    \"\"\"\n",
        "    computing offset of achor box to the groud truth box\n",
        "    \"\"\"\n",
        "    dx = (base_center_x - inside_anchor_center_x)/ inside_anchor_width  # difference in centers of ground truth and anchor box across x axis\n",
        "    dy = (base_center_y - inside_anchor_center_y)/  inside_anchor_height  # difference in centers of ground truth and anchor box across y axis\n",
        "    dw = np.log(base_width/ inside_anchor_width) # log on ratio between ground truth width and anchor box width\n",
        "    dh = np.log(base_height/ inside_anchor_height) # log on ratio between ground truth height and anchor box height\n",
        "    return dx, dy, dw, dh"
      ],
      "execution_count": 2,
      "outputs": []
    },
    {
      "cell_type": "code",
      "metadata": {
        "id": "_lSAfZhs81oM",
        "outputId": "fc6ed97c-5776-4167-f05c-f9cb49fd2f84",
        "colab": {
          "base_uri": "https://localhost:8080/",
          "height": 304
        }
      },
      "source": [
        "# load the image\n",
        "img = cv2.imread('/content/00001Two-02.jpg')\n",
        "# change the format\n",
        "img = cv2.cvtColor(img, cv2.COLOR_BGR2RGB)\n",
        "# print the shape of the image\n",
        "print(img.shape)\n",
        "img_h, img_w, _ = img.shape\n",
        "plt.imshow(img)"
      ],
      "execution_count": 3,
      "outputs": [
        {
          "output_type": "stream",
          "name": "stdout",
          "text": [
            "(240, 240, 3)\n"
          ]
        },
        {
          "output_type": "execute_result",
          "data": {
            "text/plain": [
              "<matplotlib.image.AxesImage at 0x7fe55e610df0>"
            ]
          },
          "metadata": {},
          "execution_count": 3
        },
        {
          "output_type": "display_data",
          "data": {
            "text/plain": [
              "<Figure size 432x288 with 1 Axes>"
            ],
            "image/png": "[encoded data removed]"
          },
          "metadata": {
            "needs_background": "light"
          }
        }
      ]
    },
    {
      "cell_type": "markdown",
      "metadata": {
        "id": "uqoa6KZw81oM"
      },
      "source": [
        "# Creating and Visualizing annotations"
      ]
    },
    {
      "cell_type": "code",
      "metadata": {
        "id": "xgsqlmsy81oM",
        "outputId": "2a1338a6-94ad-433e-971e-9cbc488d3b3c",
        "colab": {
          "base_uri": "https://localhost:8080/",
          "height": 269
        }
      },
      "source": [
        "# creating ground truth box and labels for each ground truth\n",
        "bbox_list = np.array([[50, 150, 180, 240], [65, 105, 95, 145]]) # xmin, ymax, xmax, ymin\n",
        "\n",
        "# labels 1 for zebra, 0 for background\n",
        "labels = np.array([1, 1])\n",
        "\n",
        "# visualize ground truth box\n",
        "img_ = np.copy(img)\n",
        "for i, bbox in enumerate(bbox_list):\n",
        "    cv2.rectangle(img_, (bbox[0], bbox[1]), (bbox[2], bbox[3]), color=(0, 255, 0), thickness=3) \n",
        "plt.imshow(img_)\n",
        "plt.show()    "
      ],
      "execution_count": 19,
      "outputs": [
        {
          "output_type": "display_data",
          "data": {
            "text/plain": [
              "<Figure size 432x288 with 1 Axes>"
            ],
            "image/png": "[encoded data removed]"
          },
          "metadata": {
            "needs_background": "light"
          }
        }
      ]
    },
    {
      "cell_type": "code",
      "metadata": {
        "id": "tYfqCMGa81oN",
        "outputId": "1490f81b-c70d-4a59-883e-4a15a2248044",
        "colab": {
          "base_uri": "https://localhost:8080/"
        }
      },
      "source": [
        "bbox_list"
      ],
      "execution_count": 20,
      "outputs": [
        {
          "output_type": "execute_result",
          "data": {
            "text/plain": [
              "array([[ 50, 150, 180, 240],\n",
              "       [ 65, 105,  95, 145]])"
            ]
          },
          "metadata": {},
          "execution_count": 20
        }
      ]
    },
    {
      "cell_type": "markdown",
      "metadata": {
        "id": "RMebV2sE81oN"
      },
      "source": [
        "# Resizing input image and annotations accordingly"
      ]
    },
    {
      "cell_type": "code",
      "metadata": {
        "id": "tNUglXrc81oN",
        "outputId": "16bd2ba0-f0ec-4cbf-ee67-e20ec1ecf4a9",
        "colab": {
          "base_uri": "https://localhost:8080/",
          "height": 286
        }
      },
      "source": [
        "h = w = 800\n",
        "# resize input to 800 x 800 (so that we could feed it to pre trained image classification model to extract features)\n",
        "img = cv2.resize(img, dsize=(h, w), interpolation=cv2.INTER_CUBIC)\n",
        "# reshape annotations accordingly\n",
        "x_alter = w/img_w # compression or expansion rate in x axis (expansion in our case, because we went up in x axis, from 333 to 800)\n",
        "y_alter = h/img_h # compression or expansion rate in y axis (expansion in our case, because we went up in x axis, from 500 to 800)\n",
        "\n",
        "print(x_alter, y_alter)\n",
        "\n",
        "# compress or expand ground truth box accordinly\n",
        "bbox_list[:, 0] = bbox_list[:, 0] * x_alter\n",
        "bbox_list[:, 1] = bbox_list[:, 1] * y_alter\n",
        "bbox_list[:, 2] = bbox_list[:, 2] * x_alter\n",
        "bbox_list[:, 3] = bbox_list[:, 3] * y_alter\n",
        "\n",
        "img_ = np.copy(img)\n",
        "for i, bbox in enumerate(bbox_list):\n",
        "    cv2.rectangle(img_, (bbox[0], bbox[1]), (bbox[2], bbox[3]), color=(0, 255, 0), thickness=3) \n",
        "plt.imshow(img_)\n",
        "plt.show() "
      ],
      "execution_count": 21,
      "outputs": [
        {
          "output_type": "stream",
          "name": "stdout",
          "text": [
            "3.3333333333333335 3.3333333333333335\n"
          ]
        },
        {
          "output_type": "display_data",
          "data": {
            "text/plain": [
              "<Figure size 432x288 with 1 Axes>"
            ],
            "image/png": "[encoded data removed]"
          },
          "metadata": {
            "needs_background": "light"
          }
        }
      ]
    },
    {
      "cell_type": "markdown",
      "metadata": {
        "id": "NLyrf8FF81oO"
      },
      "source": [
        "# VGG network as backbone network"
      ]
    },
    {
      "cell_type": "code",
      "metadata": {
        "scrolled": true,
        "id": "mFXqo-GY81oO",
        "outputId": "b5e7e429-1818-43e0-d73e-fd3ca6662927",
        "colab": {
          "base_uri": "https://localhost:8080/"
        }
      },
      "source": [
        "vgg = keras.applications.VGG16(\n",
        "    include_top=False,\n",
        "    weights=\"imagenet\"\n",
        ")\n",
        "img_ = np.copy(img)[np.newaxis,:]\n",
        "fe = vgg.layers\n",
        "l = 0\n",
        "for layer in fe:\n",
        "    output = K.function([vgg.layers[0].input], [layer.output])\n",
        "    print(output(img_)[0].shape, l)\n",
        "    l +=1"
      ],
      "execution_count": 22,
      "outputs": [
        {
          "output_type": "stream",
          "name": "stdout",
          "text": [
            "Downloading data from https://storage.googleapis.com/tensorflow/keras-applications/vgg16/vgg16_weights_tf_dim_ordering_tf_kernels_notop.h5\n",
            "58889256/58889256 [==============================] - 3s 0us/step\n",
            "(1, 800, 800, 3) 0\n",
            "(1, 800, 800, 64) 1\n",
            "(1, 800, 800, 64) 2\n",
            "(1, 400, 400, 64) 3\n",
            "(1, 400, 400, 128) 4\n",
            "(1, 400, 400, 128) 5\n",
            "(1, 200, 200, 128) 6\n",
            "(1, 200, 200, 256) 7\n",
            "(1, 200, 200, 256) 8\n",
            "(1, 200, 200, 256) 9\n",
            "(1, 100, 100, 256) 10\n",
            "(1, 100, 100, 512) 11\n",
            "(1, 100, 100, 512) 12\n",
            "(1, 100, 100, 512) 13\n",
            "(1, 50, 50, 512) 14\n",
            "(1, 50, 50, 512) 15\n",
            "(1, 50, 50, 512) 16\n",
            "(1, 50, 50, 512) 17\n",
            "(1, 25, 25, 512) 18\n"
          ]
        }
      ]
    },
    {
      "cell_type": "code",
      "metadata": {
        "id": "kmttpW9981oO",
        "outputId": "160da964-4b7c-4933-8499-86889eb1fb4e",
        "colab": {
          "base_uri": "https://localhost:8080/"
        }
      },
      "source": [
        "backbone = Model(inputs= [vgg.layers[0].input], outputs= [vgg.layers[17].output])\n",
        "backbone.predict(img_).shape"
      ],
      "execution_count": 23,
      "outputs": [
        {
          "output_type": "stream",
          "name": "stdout",
          "text": [
            "1/1 [==============================] - 7s 7s/step\n"
          ]
        },
        {
          "output_type": "execute_result",
          "data": {
            "text/plain": [
              "(1, 50, 50, 512)"
            ]
          },
          "metadata": {},
          "execution_count": 23
        }
      ]
    },
    {
      "cell_type": "code",
      "metadata": {
        "id": "adIMBZIO81oP",
        "outputId": "455e2f61-c909-4e2a-a300-f51f9e28f8a5",
        "colab": {
          "base_uri": "https://localhost:8080/"
        }
      },
      "source": [
        "backbone.summary()"
      ],
      "execution_count": 24,
      "outputs": [
        {
          "output_type": "stream",
          "name": "stdout",
          "text": [
            "Model: \"model_19\"\n",
            "_________________________________________________________________\n",
            " Layer (type)                Output Shape              Param #   \n",
            "=================================================================\n",
            " input_1 (InputLayer)        [(None, None, None, 3)]   0         \n",
            "                                                                 \n",
            " block1_conv1 (Conv2D)       (None, None, None, 64)    1792      \n",
            "                                                                 \n",
            " block1_conv2 (Conv2D)       (None, None, None, 64)    36928     \n",
            "                                                                 \n",
            " block1_pool (MaxPooling2D)  (None, None, None, 64)    0         \n",
            "                                                                 \n",
            " block2_conv1 (Conv2D)       (None, None, None, 128)   73856     \n",
            "                                                                 \n",
            " block2_conv2 (Conv2D)       (None, None, None, 128)   147584    \n",
            "                                                                 \n",
            " block2_pool (MaxPooling2D)  (None, None, None, 128)   0         \n",
            "                                                                 \n",
            " block3_conv1 (Conv2D)       (None, None, None, 256)   295168    \n",
            "                                                                 \n",
            " block3_conv2 (Conv2D)       (None, None, None, 256)   590080    \n",
            "                                                                 \n",
            " block3_conv3 (Conv2D)       (None, None, None, 256)   590080    \n",
            "                                                                 \n",
            " block3_pool (MaxPooling2D)  (None, None, None, 256)   0         \n",
            "                                                                 \n",
            " block4_conv1 (Conv2D)       (None, None, None, 512)   1180160   \n",
            "                                                                 \n",
            " block4_conv2 (Conv2D)       (None, None, None, 512)   2359808   \n",
            "                                                                 \n",
            " block4_conv3 (Conv2D)       (None, None, None, 512)   2359808   \n",
            "                                                                 \n",
            " block4_pool (MaxPooling2D)  (None, None, None, 512)   0         \n",
            "                                                                 \n",
            " block5_conv1 (Conv2D)       (None, None, None, 512)   2359808   \n",
            "                                                                 \n",
            " block5_conv2 (Conv2D)       (None, None, None, 512)   2359808   \n",
            "                                                                 \n",
            " block5_conv3 (Conv2D)       (None, None, None, 512)   2359808   \n",
            "                                                                 \n",
            "=================================================================\n",
            "Total params: 14,714,688\n",
            "Trainable params: 14,714,688\n",
            "Non-trainable params: 0\n",
            "_________________________________________________________________\n"
          ]
        }
      ]
    },
    {
      "cell_type": "code",
      "metadata": {
        "id": "X4LASn-y81oP",
        "outputId": "7f59f483-1027-4851-92b1-1f2bf215ecc0",
        "colab": {
          "base_uri": "https://localhost:8080/"
        }
      },
      "source": [
        "# examining the shape of feature map\n",
        "feature_maps = backbone.predict(np.expand_dims(img, 0))\n",
        "_, w_feature_map, h_feature_map, _ = feature_maps.shape\n",
        "# number of posssible anchor positions\n",
        "n_anchor_pos = w_feature_map * h_feature_map\n",
        "feature_maps.shape"
      ],
      "execution_count": 25,
      "outputs": [
        {
          "output_type": "stream",
          "name": "stdout",
          "text": [
            "1/1 [==============================] - 8s 8s/step\n"
          ]
        },
        {
          "output_type": "execute_result",
          "data": {
            "text/plain": [
              "(1, 50, 50, 512)"
            ]
          },
          "metadata": {},
          "execution_count": 25
        }
      ]
    },
    {
      "cell_type": "markdown",
      "metadata": {
        "id": "kKrDJyzl81oP"
      },
      "source": [
        "**Our feature map dimension size is 50\\*50 (*512 depth) = 2500, so total anchor centers would be 2500***"
      ]
    },
    {
      "cell_type": "markdown",
      "metadata": {
        "id": "Edua9nfv81oP"
      },
      "source": [
        "# Creating 2500 anchor centers to place anchor boxes of different shapes and sizes"
      ]
    },
    {
      "cell_type": "code",
      "metadata": {
        "id": "JMLsLBGF81oQ",
        "outputId": "a23f2f88-c708-41d1-c929-7eff81352dbc",
        "colab": {
          "base_uri": "https://localhost:8080/",
          "height": 378
        }
      },
      "source": [
        "# generating these 2500 centers on the image, placing each of 2500 anchor location with fixed stride to match feature map shape (25*25)\n",
        "\n",
        "# width stride on the image\n",
        "x_stride = int(w / w_feature_map)\n",
        "y_stride = int(h / h_feature_map)\n",
        "\n",
        "# center (xy coordinate) of anchor location on image\n",
        "x_center = np.arange(8, w, x_stride) # [  0,  32,  64,  96, 128, 160, 192,...]\n",
        "y_center = np.arange(8, h, y_stride) # [  0,  32,  64,  96, 128, 160, 192,...]\n",
        "\n",
        "# generate all the ordered pair of x and y center\n",
        "\n",
        "# to achive this, we will use meshgrid and reshape it\n",
        "center_list = np.array(np.meshgrid(x_center, y_center,  sparse=False, indexing='xy')).T.reshape(-1,2)\n",
        "'''\n",
        "output:\n",
        "array([[  0,   0],\n",
        "       [  0,  32],\n",
        "       [  0,  64],\n",
        "       ...,\n",
        "       [768, 704],\n",
        "       [768, 736],\n",
        "       [768, 768]])\n",
        "'''\n",
        "\n",
        "# visualizing the anchor positions\n",
        "img_ = np.copy(img)\n",
        "plt.figure(figsize=(9, 6))\n",
        "for i in range(n_anchor_pos):\n",
        "    cv2.circle(img_, (int(center_list[i][0]), int(center_list[i][1])), radius=1, color=(255, 0, 0), thickness=5) \n",
        "plt.imshow(img_)\n",
        "plt.show()"
      ],
      "execution_count": 26,
      "outputs": [
        {
          "output_type": "display_data",
          "data": {
            "text/plain": [
              "<Figure size 648x432 with 1 Axes>"
            ],
            "image/png": "[encoded data removed]"
          },
          "metadata": {
            "needs_background": "light"
          }
        }
      ]
    },
    {
      "cell_type": "code",
      "metadata": {
        "id": "cEeMWjrl81oQ",
        "outputId": "c0eb0a6b-ae13-456f-d41c-fe5b43c5d91c",
        "colab": {
          "base_uri": "https://localhost:8080/"
        }
      },
      "source": [
        "center_list.shape"
      ],
      "execution_count": 27,
      "outputs": [
        {
          "output_type": "execute_result",
          "data": {
            "text/plain": [
              "(2500, 2)"
            ]
          },
          "metadata": {},
          "execution_count": 27
        }
      ]
    },
    {
      "cell_type": "markdown",
      "metadata": {
        "id": "gUNCAvxD81oQ"
      },
      "source": [
        "**The red dots are the anchor centers, we will put n anchor boxes in each of this location**"
      ]
    },
    {
      "cell_type": "markdown",
      "metadata": {
        "id": "hk_sIY3g81oR"
      },
      "source": [
        "# Generating anchor boxes for each anchor location\n",
        "\n",
        "* If you notice, our ground truth box is of format \"xmin, ymax, xmax, ymin\" but here, we have centers, so we need format conversion from centers to min max format.\n",
        "* We will use anchor boxes of different scale and aspect ratios, this image depics anchor boxes with different area/ scale and aspect ratios/ different height and width length.\n",
        "<img src=\"https://www.researchgate.net/profile/Max-Ferguson/publication/327392506/figure/fig8/AS:666613162450944@1535944371721/Anchor-Boxes-at-a-certain-position-in-the-feature-map.png\" alt=\"Anchor Boxes at a certain position in the feature map. | Download  Scientific Diagram\" style=\"zoom:50%;\" />\n",
        "\n",
        "**To compute height and width given aspect ratio and area/ scale of anchor box, we will use these \n",
        "equation**\n",
        "<img src=\"https://i.imgur.com/cCcIC3I.jpg\" alt=\"computing height given area and aspect ratio\" style=\"zoom:50%;\" />\n",
        "\n",
        "<img src=\"https://i.imgur.com/rozsNyv.jpg\" alt=\"computing width given area and aspect ratio\" style=\"zoom:50%;\" />"
      ]
    },
    {
      "cell_type": "code",
      "metadata": {
        "id": "u9NWhwVr81oR"
      },
      "source": [
        "al = []\n",
        "# aspect ratio = width/ height\n",
        "anchor_ratio_list = [0.5, 1, 2] # width is half of height(vertical rectangle), width = height (square), width is twice of height (horizontal rectangle)\n",
        "anchor_scale_list = [8, 16, 32] # area of each anchor box\n",
        "\n",
        "# total possible anchors \n",
        "n_anchors = n_anchor_pos * len(anchor_ratio_list) * len(anchor_scale_list)\n",
        "\n",
        "# number of object in the image\n",
        "n_object = len(bbox_list)\n",
        "\n",
        "# there are total 2500 anchor centers each having 9 anchor boxes placed\n",
        "# total anchor box in the feature map will be 2500 * 9 = 22500 each anchor box is denoted by 4 numbers.\n",
        "anchor_list = np.zeros(shape= (n_anchors, 4))\n",
        "\n",
        "count = 0\n",
        "# to get height and width given ratio and scale, we will use formula given above\n",
        "# for each anchor location\n",
        "for center in center_list:\n",
        "    center_x, center_y = center[0], center[1]\n",
        "    # for each ratio\n",
        "    for ratio in anchor_ratio_list:\n",
        "        # for each scale\n",
        "        for scale in anchor_scale_list:\n",
        "            # compute height and width and scale them by constant factor\n",
        "            h = pow(pow(scale, 2)/ ratio, 0.5)\n",
        "            w = h * ratio\n",
        "\n",
        "            # as h and w would be really small, we will scale them with some constant (in our case, stride width and height)\n",
        "            h *= x_stride\n",
        "            w *= y_stride\n",
        "\n",
        "\n",
        "            # * at this point we have height and width of anchor and centers of anchor locations\n",
        "            # putting anchor 9 boxes at each anchor locations\n",
        "            anchor_xmin = center_x - 0.5 * w\n",
        "            anchor_ymin = center_y - 0.5 * h\n",
        "            anchor_xmax = center_x + 0.5 * w\n",
        "            anchor_ymax = center_y + 0.5 * h\n",
        "            al.append([center_x, center_y, w, h])\n",
        "            # append the anchor box to anchor list\n",
        "            anchor_list[count] = [anchor_xmin, anchor_ymin, anchor_xmax, anchor_ymax]\n",
        "            count += 1"
      ],
      "execution_count": 28,
      "outputs": []
    },
    {
      "cell_type": "code",
      "metadata": {
        "id": "yQG4W0Y-81oS",
        "outputId": "49e94853-b021-4471-9392-2b659a2110cc",
        "colab": {
          "base_uri": "https://localhost:8080/"
        }
      },
      "source": [
        "anchor_list"
      ],
      "execution_count": 29,
      "outputs": [
        {
          "output_type": "execute_result",
          "data": {
            "text/plain": [
              "array([[ -37.254834  ,  -82.50966799,   53.254834  ,   98.50966799],\n",
              "       [ -82.50966799, -173.01933598,   98.50966799,  189.01933598],\n",
              "       [-173.01933598, -354.03867197,  189.01933598,  370.03867197],\n",
              "       ...,\n",
              "       [ 701.49033201,  746.745166  ,  882.50966799,  837.254834  ],\n",
              "       [ 610.98066402,  701.49033201,  973.01933598,  882.50966799],\n",
              "       [ 429.96132803,  610.98066402, 1154.03867197,  973.01933598]])"
            ]
          },
          "metadata": {},
          "execution_count": 29
        }
      ]
    },
    {
      "cell_type": "code",
      "metadata": {
        "scrolled": true,
        "id": "6Gm9yI8P81oS",
        "outputId": "79229f21-cbfc-43b8-91a4-0ce88bfd973c",
        "colab": {
          "base_uri": "https://localhost:8080/",
          "height": 269
        }
      },
      "source": [
        "# visualize anchor boxs at center anchor location\n",
        "img_ = np.copy(img)\n",
        "# mid anchor center = 2500/2 = 1250\n",
        "for i in range(11025, 11034):  # 1250 * 9 = 11025 (9 anchors corresponds to mid anchor center)\n",
        "    x_min = int(anchor_list[i][0])\n",
        "    y_min = int(anchor_list[i][1])\n",
        "    x_max = int(anchor_list[i][2])\n",
        "    y_max = int(anchor_list[i][3])\n",
        "    cv2.rectangle(img_, (x_min, y_min), (x_max, y_max), color=(255, 0, 0), thickness=3) \n",
        "\n",
        "for i, bbox in enumerate(bbox_list):\n",
        "    cv2.rectangle(img_, (bbox[0], bbox[1]), (bbox[2], bbox[3]), color=(0, 255, 0), thickness=3)\n",
        "    \n",
        "cv2.circle(img_, (int(center_list[312][0]), int(center_list[312][1])), radius=1, color=(0, 0, 255), thickness=15) \n",
        "\n",
        "plt.imshow(img_)\n",
        "plt.show()"
      ],
      "execution_count": 30,
      "outputs": [
        {
          "output_type": "display_data",
          "data": {
            "text/plain": [
              "<Figure size 432x288 with 1 Axes>"
            ],
            "image/png": "[encoded data removed]"
          },
          "metadata": {
            "needs_background": "light"
          }
        }
      ]
    },
    {
      "cell_type": "markdown",
      "metadata": {
        "id": "TokoXCTq81oS"
      },
      "source": [
        "* 9 Anchor boxes placed at middle anchor location"
      ]
    },
    {
      "cell_type": "markdown",
      "metadata": {
        "id": "atjJ-1nh81oS"
      },
      "source": [
        "# Assigning lables to each anchor box\n",
        "As these anchor boxes will be used as a target in our RPN network, we need to assign labels to each of these anchor boxes based on some criteria.\n",
        "\n",
        "### IOU (intersection over union)\n",
        "IOU is a way to measure overlap between two rectangular boxes. It is a popular evaluation metric in object detection, which measures the overlap between ground truth box and predicted bounding box.\n",
        "<img src=\"https://www.researchgate.net/publication/334988907/figure/fig5/AS:788892127068163@1565097948931/Examples-of-how-Intersection-over-Union-is-calculated-Left-Poor-performance-IoU.ppm\">\n",
        "\n",
        "\n",
        "We will use IOU to assign labels to each of the anchor box.\n",
        "\n",
        "Firstly:\n",
        "    \n",
        "    We will select all the boxes which fall inside the image.\n",
        "    We will label anchor box as \"1\" (contains object) or positive if it has IOU/ overlap greater than equal to 0.7.\n",
        "    We will label anchor box as \"0\" or negative if it has IOU/ overlap smaller than equal to 0.3.\n",
        "    We will label anchor box as \"-1\" otherwise which will be discarded and won't be used as label while training.\n",
        "    We will also discard all the boxes which are going beyond the image size (outside the image).\n",
        "\n",
        "Secondly:\n",
        "\n",
        "    We will assign each anchor box to ground truth box, which means we will assign what \"ground truth\" label does anchor box has maximum overlap. For instance, there might be multiple object in an image, so we assign ground truth label to anchor box denoting what ground truth box current anchor box belongs to.\n",
        "\n",
        "Thirdly:\n",
        "\n",
        "    We will assign each ground truth box to anchor box which has maximum IOU."
      ]
    },
    {
      "cell_type": "code",
      "metadata": {
        "id": "AmpaagDD81oT",
        "outputId": "532b6570-0ffd-4681-9a7c-b7e709fb30c6",
        "colab": {
          "base_uri": "https://localhost:8080/"
        }
      },
      "source": [
        "anchor_list"
      ],
      "execution_count": 31,
      "outputs": [
        {
          "output_type": "execute_result",
          "data": {
            "text/plain": [
              "array([[ -37.254834  ,  -82.50966799,   53.254834  ,   98.50966799],\n",
              "       [ -82.50966799, -173.01933598,   98.50966799,  189.01933598],\n",
              "       [-173.01933598, -354.03867197,  189.01933598,  370.03867197],\n",
              "       ...,\n",
              "       [ 701.49033201,  746.745166  ,  882.50966799,  837.254834  ],\n",
              "       [ 610.98066402,  701.49033201,  973.01933598,  882.50966799],\n",
              "       [ 429.96132803,  610.98066402, 1154.03867197,  973.01933598]])"
            ]
          },
          "metadata": {},
          "execution_count": 31
        }
      ]
    },
    {
      "cell_type": "code",
      "metadata": {
        "id": "c6L0g62P81oT",
        "outputId": "46494064-2e41-4df2-a7c5-e8558f6b175a",
        "colab": {
          "base_uri": "https://localhost:8080/"
        }
      },
      "source": [
        "h = w = 800\n",
        "# select anchor boxes which are inside the image\n",
        "inside_anchor_idx_list = np.where(\n",
        "    (anchor_list[:,0] >= 0) &\n",
        "    (anchor_list[:,1] >= 0) &\n",
        "    (anchor_list[:,2] <= w) &\n",
        "    (anchor_list[:,3] <= h))[0]\n",
        "print(inside_anchor_idx_list.shape)\n",
        "inside_anchor_list = anchor_list[inside_anchor_idx_list]\n",
        "n_inside_anchor = len(inside_anchor_idx_list)"
      ],
      "execution_count": 32,
      "outputs": [
        {
          "output_type": "stream",
          "name": "stdout",
          "text": [
            "(8940,)\n"
          ]
        }
      ]
    },
    {
      "cell_type": "code",
      "metadata": {
        "id": "xrL1iXvV81oT",
        "outputId": "7c5a0672-c1bd-433e-d156-0364aa7419f6",
        "colab": {
          "base_uri": "https://localhost:8080/"
        }
      },
      "source": [
        "anchor_list.shape, n_inside_anchor"
      ],
      "execution_count": 33,
      "outputs": [
        {
          "output_type": "execute_result",
          "data": {
            "text/plain": [
              "((22500, 4), 8940)"
            ]
          },
          "metadata": {},
          "execution_count": 33
        }
      ]
    },
    {
      "cell_type": "code",
      "metadata": {
        "id": "6T8cQ3Qa81oU"
      },
      "source": [
        "def IOU(box1, box2):\n",
        "    \"\"\"\n",
        "    Compute overlap (IOU) between box1 and box2\n",
        "    \"\"\"\n",
        "    \n",
        "    # ------calculate coordinate of overlapping region------\n",
        "    # take max of x1 and y1 out of both boxes\n",
        "    x1 = max(box1[0], box2[0])\n",
        "    y1 = max(box1[1], box2[1])\n",
        "    \n",
        "    # take min of x2 and y2 out of both boxes\n",
        "    x2 = min(box1[2], box2[2])\n",
        "    y2 = min(box1[3], box2[3])\n",
        "    \n",
        "    # check if they atleast overlap a little\n",
        "    if (x1 < x2 and y1 < y2):\n",
        "        # ------area of overlapping region------\n",
        "        width_overlap = (x2 - x1)\n",
        "        height_overlap = (y2 - y1)\n",
        "        area_overlap = width_overlap * height_overlap\n",
        "    else:\n",
        "        # there is no overlap\n",
        "        return 0\n",
        "    \n",
        "    # ------computing union------\n",
        "    # sum of area of both the boxes - area_overlap\n",
        "    \n",
        "    # height and width of both boxes\n",
        "    width_box1 = (box1[2] - box1[0])\n",
        "    height_box1 = (box1[3] - box1[1])\n",
        "    \n",
        "    width_box2 = (box2[2] - box2[0])\n",
        "    height_box2 = (box2[3] - box2[1])\n",
        "    \n",
        "    # area of box1 and box2\n",
        "    area_box1 = width_box1 * height_box1\n",
        "    area_box2 = width_box2 * height_box2\n",
        "    \n",
        "    # union (including 2 * overlap area (double count))\n",
        "    area_union_overlap = area_box1 + area_box2\n",
        "    \n",
        "    # union\n",
        "    area_union = area_union_overlap - area_overlap\n",
        "    \n",
        "    # compute IOU\n",
        "    iou = area_overlap/ area_union\n",
        "    \n",
        "    return iou"
      ],
      "execution_count": 34,
      "outputs": []
    },
    {
      "cell_type": "code",
      "metadata": {
        "id": "tgNPaLwc81oU"
      },
      "source": [
        "iou_list = np.zeros((n_inside_anchor, n_object))\n",
        "# for each ground truth box\n",
        "for gt_idx, gt_box in enumerate(bbox_list):\n",
        "    # for each anchor boxes\n",
        "    for anchor_idx, anchor_box in enumerate(inside_anchor_list):\n",
        "        # compute IOU\n",
        "        iou_list[anchor_idx][gt_idx] = IOU(gt_box, anchor_box)\n",
        "        break"
      ],
      "execution_count": 35,
      "outputs": []
    },
    {
      "cell_type": "code",
      "metadata": {
        "id": "G-QPY4Kn81oU",
        "outputId": "c91f8607-4032-45d2-be12-63ab9cb95bb9",
        "colab": {
          "base_uri": "https://localhost:8080/",
          "height": 286
        }
      },
      "source": [
        "box1 = [40, 70, 200, 200]\n",
        "box2 = [211, 215, 410, 415]\n",
        "test_box = [box1, box2]\n",
        "img_ = np.zeros([512,512,3],dtype=np.uint8)\n",
        "img_.fill(255)\n",
        "for i, bbox in enumerate(test_box):\n",
        "    cv2.rectangle(img_, (bbox[0], bbox[1]), (bbox[2], bbox[3]), color=(0, 255, 0), thickness=3)\n",
        "    \n",
        "plt.imshow(img_)\n",
        "print(f\"Overlap/ IOU: {IOU(box1, box2)}\")"
      ],
      "execution_count": 37,
      "outputs": [
        {
          "output_type": "stream",
          "name": "stdout",
          "text": [
            "Overlap/ IOU: 0\n"
          ]
        },
        {
          "output_type": "display_data",
          "data": {
            "text/plain": [
              "<Figure size 432x288 with 1 Axes>"
            ],
            "image/png": "[encoded data removed]"
          },
          "metadata": {
            "needs_background": "light"
          }
        }
      ]
    },
    {
      "cell_type": "code",
      "metadata": {
        "scrolled": true,
        "id": "dO0ZDVQs81oV",
        "outputId": "3ba97c94-1af1-4f3b-f8d5-9d951c1c6c89",
        "colab": {
          "base_uri": "https://localhost:8080/",
          "height": 286
        }
      },
      "source": [
        "box1 = [100, 150, 300, 300]\n",
        "box2 = [211, 215, 410, 415]\n",
        "test_box = [box1, box2]\n",
        "img_ = np.zeros([512,512,3],dtype=np.uint8)\n",
        "img_.fill(255)\n",
        "for i, bbox in enumerate(test_box):\n",
        "    cv2.rectangle(img_, (bbox[0], bbox[1]), (bbox[2], bbox[3]), color=(0, 255, 0), thickness=3)\n",
        "    \n",
        "plt.imshow(img_)\n",
        "print(f\"Overlap/ IOU: {IOU(box1, box2)}\")"
      ],
      "execution_count": 39,
      "outputs": [
        {
          "output_type": "stream",
          "name": "stdout",
          "text": [
            "Overlap/ IOU: 0.12155539487426689\n"
          ]
        },
        {
          "output_type": "display_data",
          "data": {
            "text/plain": [
              "<Figure size 432x288 with 1 Axes>"
            ],
            "image/png": "[encoded data removed]"
          },
          "metadata": {
            "needs_background": "light"
          }
        }
      ]
    },
    {
      "cell_type": "code",
      "metadata": {
        "id": "WuCX6QcM81oV",
        "outputId": "6ae329a3-e7b8-432a-e7a9-46f38121f3bc",
        "colab": {
          "base_uri": "https://localhost:8080/",
          "height": 286
        }
      },
      "source": [
        "box1 = [190, 200, 400, 400]\n",
        "box2 = [211, 215, 410, 415]\n",
        "test_box = [box1, box2]\n",
        "img_ = np.zeros([512,512,3],dtype=np.uint8)\n",
        "img_.fill(255)\n",
        "for i, bbox in enumerate(test_box):\n",
        "    cv2.rectangle(img_, (bbox[0], bbox[1]), (bbox[2], bbox[3]), color=(0, 255, 0), thickness=3)\n",
        "    \n",
        "plt.imshow(img_)\n",
        "print(f\"Overlap/ IOU: {IOU(box1, box2)}\")"
      ],
      "execution_count": 40,
      "outputs": [
        {
          "output_type": "stream",
          "name": "stdout",
          "text": [
            "Overlap/ IOU: 0.7465570620262624\n"
          ]
        },
        {
          "output_type": "display_data",
          "data": {
            "text/plain": [
              "<Figure size 432x288 with 1 Axes>"
            ],
            "image/png": "[encoded data removed]"
          },
          "metadata": {
            "needs_background": "light"
          }
        }
      ]
    },
    {
      "cell_type": "code",
      "metadata": {
        "id": "av0Gcaa581oV"
      },
      "source": [
        "# computing IOU for each anchor boxes with each ground truth box\n",
        "iou_list = np.zeros((n_inside_anchor, n_object))\n",
        "# for each ground truth box\n",
        "for gt_idx, gt_box in enumerate(bbox_list):\n",
        "    # for each anchor boxes\n",
        "    for anchor_idx, anchor_box in enumerate(inside_anchor_list):\n",
        "        # compute IOU\n",
        "        iou_list[anchor_idx][gt_idx] = IOU(gt_box, anchor_box)\n",
        "# convert to dataframe\n",
        "\n",
        "# add anchor_id\n",
        "data = {\"anchor_id\" :inside_anchor_idx_list}\n",
        "\n",
        "# add object column and corresponding IOU\n",
        "data.update({f\"object_{idx}_iou\":iou_list[:, idx] for idx in range(n_object)})\n",
        "\n",
        "# for each anchor box assign max IOU among all objects in the image\n",
        "data[\"max_iou\"] = iou_list.max(axis= 1)\n",
        "\n",
        "# for each anchorbox assign ground truth having maximum IOU\n",
        "data[\"best_gt\"] = iou_list.argmax(axis= 1)\n",
        "\n",
        "df_iou = pd.DataFrame(data)"
      ],
      "execution_count": 41,
      "outputs": []
    },
    {
      "cell_type": "code",
      "metadata": {
        "id": "rRsUqTHv81oV",
        "outputId": "a2112d06-bfb1-4ea6-8ead-312577c3fbbd",
        "colab": {
          "base_uri": "https://localhost:8080/",
          "height": 424
        }
      },
      "source": [
        "df_iou"
      ],
      "execution_count": 42,
      "outputs": [
        {
          "output_type": "execute_result",
          "data": {
            "text/plain": [
              "      anchor_id  object_0_iou  object_1_iou  max_iou  best_gt\n",
              "0          1404           0.0           0.0      0.0        0\n",
              "1          1413           0.0           0.0      0.0        0\n",
              "2          1422           0.0           0.0      0.0        0\n",
              "3          1431           0.0           0.0      0.0        0\n",
              "4          1440           0.0           0.0      0.0        0\n",
              "...         ...           ...           ...      ...      ...\n",
              "8935      21051           0.0           0.0      0.0        0\n",
              "8936      21060           0.0           0.0      0.0        0\n",
              "8937      21069           0.0           0.0      0.0        0\n",
              "8938      21078           0.0           0.0      0.0        0\n",
              "8939      21087           0.0           0.0      0.0        0\n",
              "\n",
              "[8940 rows x 5 columns]"
            ],
            "text/html": [
              "\n",
              "  <div id=\"df-f1815904-aef9-4367-9854-ef07651ed0aa\">\n",
              "    <div class=\"colab-df-container\">\n",
              "      <div>\n",
              "<style scoped>\n",
              "    .dataframe tbody tr th:only-of-type {\n",
              "        vertical-align: middle;\n",
              "    }\n",
              "\n",
              "    .dataframe tbody tr th {\n",
              "        vertical-align: top;\n",
              "    }\n",
              "\n",
              "    .dataframe thead th {\n",
              "        text-align: right;\n",
              "    }\n",
              "</style>\n",
              "<table border=\"1\" class=\"dataframe\">\n",
              "  <thead>\n",
              "    <tr style=\"text-align: right;\">\n",
              "      <th></th>\n",
              "      <th>anchor_id</th>\n",
              "      <th>object_0_iou</th>\n",
              "      <th>object_1_iou</th>\n",
              "      <th>max_iou</th>\n",
              "      <th>best_gt</th>\n",
              "    </tr>\n",
              "  </thead>\n",
              "  <tbody>\n",
              "    <tr>\n",
              "      <th>0</th>\n",
              "      <td>1404</td>\n",
              "      <td>0.0</td>\n",
              "      <td>0.0</td>\n",
              "      <td>0.0</td>\n",
              "      <td>0</td>\n",
              "    </tr>\n",
              "    <tr>\n",
              "      <th>1</th>\n",
              "      <td>1413</td>\n",
              "      <td>0.0</td>\n",
              "      <td>0.0</td>\n",
              "      <td>0.0</td>\n",
              "      <td>0</td>\n",
              "    </tr>\n",
              "    <tr>\n",
              "      <th>2</th>\n",
              "      <td>1422</td>\n",
              "      <td>0.0</td>\n",
              "      <td>0.0</td>\n",
              "      <td>0.0</td>\n",
              "      <td>0</td>\n",
              "    </tr>\n",
              "    <tr>\n",
              "      <th>3</th>\n",
              "      <td>1431</td>\n",
              "      <td>0.0</td>\n",
              "      <td>0.0</td>\n",
              "      <td>0.0</td>\n",
              "      <td>0</td>\n",
              "    </tr>\n",
              "    <tr>\n",
              "      <th>4</th>\n",
              "      <td>1440</td>\n",
              "      <td>0.0</td>\n",
              "      <td>0.0</td>\n",
              "      <td>0.0</td>\n",
              "      <td>0</td>\n",
              "    </tr>\n",
              "    <tr>\n",
              "      <th>...</th>\n",
              "      <td>...</td>\n",
              "      <td>...</td>\n",
              "      <td>...</td>\n",
              "      <td>...</td>\n",
              "      <td>...</td>\n",
              "    </tr>\n",
              "    <tr>\n",
              "      <th>8935</th>\n",
              "      <td>21051</td>\n",
              "      <td>0.0</td>\n",
              "      <td>0.0</td>\n",
              "      <td>0.0</td>\n",
              "      <td>0</td>\n",
              "    </tr>\n",
              "    <tr>\n",
              "      <th>8936</th>\n",
              "      <td>21060</td>\n",
              "      <td>0.0</td>\n",
              "      <td>0.0</td>\n",
              "      <td>0.0</td>\n",
              "      <td>0</td>\n",
              "    </tr>\n",
              "    <tr>\n",
              "      <th>8937</th>\n",
              "      <td>21069</td>\n",
              "      <td>0.0</td>\n",
              "      <td>0.0</td>\n",
              "      <td>0.0</td>\n",
              "      <td>0</td>\n",
              "    </tr>\n",
              "    <tr>\n",
              "      <th>8938</th>\n",
              "      <td>21078</td>\n",
              "      <td>0.0</td>\n",
              "      <td>0.0</td>\n",
              "      <td>0.0</td>\n",
              "      <td>0</td>\n",
              "    </tr>\n",
              "    <tr>\n",
              "      <th>8939</th>\n",
              "      <td>21087</td>\n",
              "      <td>0.0</td>\n",
              "      <td>0.0</td>\n",
              "      <td>0.0</td>\n",
              "      <td>0</td>\n",
              "    </tr>\n",
              "  </tbody>\n",
              "</table>\n",
              "<p>8940 rows × 5 columns</p>\n",
              "</div>\n",
              "      <button class=\"colab-df-convert\" onclick=\"convertToInteractive('df-f1815904-aef9-4367-9854-ef07651ed0aa')\"\n",
              "              title=\"Convert this dataframe to an interactive table.\"\n",
              "              style=\"display:none;\">\n",
              "        \n",
              "  <svg xmlns=\"http://www.w3.org/2000/svg\" height=\"24px\"viewBox=\"0 0 24 24\"\n",
              "       width=\"24px\">\n",
              "    <path d=\"M0 0h24v24H0V0z\" fill=\"none\"/>\n",
              "    <path d=\"M18.56 5.44l.94 2.06.94-2.06 2.06-.94-2.06-.94-.94-2.06-.94 2.06-2.06.94zm-11 1L8.5 8.5l.94-2.06 2.06-.94-2.06-.94L8.5 2.5l-.94 2.06-2.06.94zm10 10l.94 2.06.94-2.06 2.06-.94-2.06-.94-.94-2.06-.94 2.06-2.06.94z\"/><path d=\"M17.41 7.96l-1.37-1.37c-.4-.4-.92-.59-1.43-.59-.52 0-1.04.2-1.43.59L10.3 9.45l-7.72 7.72c-.78.78-.78 2.05 0 2.83L4 21.41c.39.39.9.59 1.41.59.51 0 1.02-.2 1.41-.59l7.78-7.78 2.81-2.81c.8-.78.8-2.07 0-2.86zM5.41 20L4 18.59l7.72-7.72 1.47 1.35L5.41 20z\"/>\n",
              "  </svg>\n",
              "      </button>\n",
              "      \n",
              "  <style>\n",
              "    .colab-df-container {\n",
              "      display:flex;\n",
              "      flex-wrap:wrap;\n",
              "      gap: 12px;\n",
              "    }\n",
              "\n",
              "    .colab-df-convert {\n",
              "      background-color: #E8F0FE;\n",
              "      border: none;\n",
              "      border-radius: 50%;\n",
              "      cursor: pointer;\n",
              "      display: none;\n",
              "      fill: #1967D2;\n",
              "      height: 32px;\n",
              "      padding: 0 0 0 0;\n",
              "      width: 32px;\n",
              "    }\n",
              "\n",
              "    .colab-df-convert:hover {\n",
              "      background-color: #E2EBFA;\n",
              "      box-shadow: 0px 1px 2px rgba(60, 64, 67, 0.3), 0px 1px 3px 1px rgba(60, 64, 67, 0.15);\n",
              "      fill: #174EA6;\n",
              "    }\n",
              "\n",
              "    [theme=dark] .colab-df-convert {\n",
              "      background-color: #3B4455;\n",
              "      fill: #D2E3FC;\n",
              "    }\n",
              "\n",
              "    [theme=dark] .colab-df-convert:hover {\n",
              "      background-color: #434B5C;\n",
              "      box-shadow: 0px 1px 3px 1px rgba(0, 0, 0, 0.15);\n",
              "      filter: drop-shadow(0px 1px 2px rgba(0, 0, 0, 0.3));\n",
              "      fill: #FFFFFF;\n",
              "    }\n",
              "  </style>\n",
              "\n",
              "      <script>\n",
              "        const buttonEl =\n",
              "          document.querySelector('#df-f1815904-aef9-4367-9854-ef07651ed0aa button.colab-df-convert');\n",
              "        buttonEl.style.display =\n",
              "          google.colab.kernel.accessAllowed ? 'block' : 'none';\n",
              "\n",
              "        async function convertToInteractive(key) {\n",
              "          const element = document.querySelector('#df-f1815904-aef9-4367-9854-ef07651ed0aa');\n",
              "          const dataTable =\n",
              "            await google.colab.kernel.invokeFunction('convertToInteractive',\n",
              "                                                     [key], {});\n",
              "          if (!dataTable) return;\n",
              "\n",
              "          const docLinkHtml = 'Like what you see? Visit the ' +\n",
              "            '<a target=\"_blank\" href=https://colab.research.google.com/notebooks/data_table.ipynb>data table notebook</a>'\n",
              "            + ' to learn more about interactive tables.';\n",
              "          element.innerHTML = '';\n",
              "          dataTable['output_type'] = 'display_data';\n",
              "          await google.colab.output.renderOutput(dataTable, element);\n",
              "          const docLink = document.createElement('div');\n",
              "          docLink.innerHTML = docLinkHtml;\n",
              "          element.appendChild(docLink);\n",
              "        }\n",
              "      </script>\n",
              "    </div>\n",
              "  </div>\n",
              "  "
            ]
          },
          "metadata": {},
          "execution_count": 42
        }
      ]
    },
    {
      "cell_type": "code",
      "metadata": {
        "scrolled": true,
        "id": "Q_cpcJ3v81oW",
        "outputId": "09bd96d2-e4dc-4874-91a7-6cdc506fc28b",
        "colab": {
          "base_uri": "https://localhost:8080/"
        }
      },
      "source": [
        "# getting anchor boxes having maximum IOU for each ground truth boxes\n",
        "best_ious = df_iou.drop([\"anchor_id\", \"max_iou\", \"best_gt\"],axis= 1).max().values\n",
        "print(f\"Top IOUs for each object in the image: {best_ious}\")\n",
        "\n",
        "# getting anchor box idx having maximum overlap with ground truth boxes * ignoring anchor id column\n",
        "best_anchors = df_iou.drop([\"anchor_id\", \"max_iou\", \"best_gt\"],axis= 1).values.argmax(axis= 0)\n",
        "print(f\"Top anchor boxes index: {best_anchors}\")\n",
        "\n",
        "# get all the anchor boxes having same IOU score\n",
        "top_anchors = np.where(iou_list == best_ious)[0]\n",
        "print(f\"Anchor boxes with same IOU score: {top_anchors}\")"
      ],
      "execution_count": 43,
      "outputs": [
        {
          "output_type": "stream",
          "name": "stdout",
          "text": [
            "Top IOUs for each object in the image: [0.50334869 0.70754717]\n",
            "Top anchor boxes index: [3887 2334]\n",
            "Anchor boxes with same IOU score: [2334 2580 3887 3893 3898 3903 3908 3912 3916 4159 4166 4172 4177 4182\n",
            " 4186 4190 4433 4440 4446 4451 4456 4460 4464 4707 4714 4720 4725 4730\n",
            " 4734 4738]\n"
          ]
        }
      ]
    },
    {
      "cell_type": "markdown",
      "metadata": {
        "id": "mKSl3hRT81oW"
      },
      "source": [
        "* For object 1, best anchor box has 65.6% overlap with ground truth box.\n",
        "* For object 2, best anchor box has 67.7% overlap with ground truth box.\n",
        "* Anchor box 1863 (for object 1) and 4384 (for object 2) has the best overlap with ground truth box\n",
        "* Lastly, list of anchor boxes having same top IOU score"
      ]
    },
    {
      "cell_type": "code",
      "metadata": {
        "id": "cNE8cliD81oW",
        "outputId": "c8c579f8-24af-4460-9e50-1b2cd490eb36",
        "colab": {
          "base_uri": "https://localhost:8080/",
          "height": 269
        }
      },
      "source": [
        "# visualizing top anchor boxes\n",
        "img_ = np.copy(img)\n",
        "for i in top_anchors:  # 5625// 2\n",
        "    x_min = int(inside_anchor_list[i][0])\n",
        "    y_min = int(inside_anchor_list[i][1])\n",
        "    x_max = int(inside_anchor_list[i][2])\n",
        "    y_max = int(inside_anchor_list[i][3])\n",
        "    cv2.rectangle(img_, (x_min, y_min), (x_max, y_max), color=(255, 0, 0), thickness=3) \n",
        "\n",
        "for i, bbox in enumerate(bbox_list):\n",
        "    cv2.rectangle(img_, (bbox[0], bbox[1]), (bbox[2], bbox[3]), color=(0, 255, 0), thickness=3)\n",
        "\n",
        "plt.imshow(img_)\n",
        "plt.show()"
      ],
      "execution_count": 44,
      "outputs": [
        {
          "output_type": "display_data",
          "data": {
            "text/plain": [
              "<Figure size 432x288 with 1 Axes>"
            ],
            "image/png": "[encoded data removed]"
          },
          "metadata": {
            "needs_background": "light"
          }
        }
      ]
    },
    {
      "cell_type": "markdown",
      "metadata": {
        "id": "wmWDyofm81oW"
      },
      "source": [
        "**Red-> best anchor box**\n",
        "\n",
        "**Green -> ground truth box**"
      ]
    },
    {
      "cell_type": "code",
      "metadata": {
        "id": "Ob3w3XOQ81oW",
        "colab": {
          "base_uri": "https://localhost:8080/"
        },
        "outputId": "98e0e0a0-d03e-49ee-bf9b-95d4f31441ce"
      },
      "source": [
        "# labeling each anchor box based on IOU threshold\n",
        "\n",
        "# create dummy column\n",
        "label_column = np.zeros(df_iou.shape[0], dtype= np.int)\n",
        "label_column.fill(-1)\n",
        "\n",
        "# label top anchor boxes as 1 # contains object\n",
        "label_column[top_anchors] = 1\n",
        "\n",
        "# label anchor boxes having IOU > 0.7 with ground truth boxes as 1 # contains object\n",
        "label_column[np.where(df_iou.max_iou.values >= 0.7)[0]] = 1\n",
        "\n",
        "# label anchor boxes having IOU < 0.3 with ground truth boxes as 0 # background\n",
        "label_column[np.where(df_iou.max_iou.values < 0.3)[0]] = 0\n",
        "\n",
        "# add column to the iou dataframe\n",
        "df_iou[\"label\"] = label_column"
      ],
      "execution_count": 45,
      "outputs": [
        {
          "output_type": "stream",
          "name": "stderr",
          "text": [
            "<ipython-input-45-8c0c4b29e415>:4: DeprecationWarning: `np.int` is a deprecated alias for the builtin `int`. To silence this warning, use `int` by itself. Doing this will not modify any behavior and is safe. When replacing `np.int`, you may wish to use e.g. `np.int64` or `np.int32` to specify the precision. If you wish to review your current use, check the release note link for additional information.\n",
            "Deprecated in NumPy 1.20; for more details and guidance: https://numpy.org/devdocs/release/1.20.0-notes.html#deprecations\n",
            "  label_column = np.zeros(df_iou.shape[0], dtype= np.int)\n"
          ]
        }
      ]
    },
    {
      "cell_type": "markdown",
      "metadata": {
        "id": "vz_kw8Qk81oX"
      },
      "source": [
        "# Balancing anchor labels\n",
        "As most of the classes will be of background (class 0), our model would be biased towards majority class, so we take 1:1 ratio (number of background examples will be equal to foreground) to train our RPN model 256 samples (overall, postive class + background class).\n",
        "\n",
        "If we don't have enough foreground class, we will sample background class (class 0) to fill in the gaps.\n",
        "\n",
        "eg: we have total of 256 samples, we take 128 of background class and 128 of foreground class, if we have less foreground class than 128 (lets say 100 postive class instances), we will sample more negative points (28 in our case) to pad."
      ]
    },
    {
      "cell_type": "code",
      "metadata": {
        "id": "QdpfNELo81oX"
      },
      "source": [
        "def sample_anchors_pre(df, n_samples= 256, neg_ratio= 0.5):\n",
        "    \"\"\"\n",
        "    Sample total of n samples across both the class (background and foreground),\n",
        "    If one of the class have less samples than n/2, we will sample from majority class to make up for short.\n",
        "    \"\"\"\n",
        "    n_foreground = int((1-neg_ratio) * n_samples)\n",
        "    n_backgroud = int(neg_ratio * n_samples)\n",
        "    foreground_index_list = df[df.label == 1].index.values\n",
        "    background_index_list = df[df.label == 0].index.values\n",
        "\n",
        "    # check if we have excessive positive samples\n",
        "    if len(foreground_index_list) > n_foreground:\n",
        "        # mark excessive samples as -1 (ignore)\n",
        "        ignore_index = foreground_index_list[n_backgroud:]\n",
        "        df.loc[ignore_index, \"label\"] = -1\n",
        "\n",
        "    # sample background examples if we don't have enough positive examples to match the anchor batch size\n",
        "    if len(foreground_index_list) < n_foreground:\n",
        "        diff = n_foreground - len(foreground_index_list)\n",
        "        # add remaining to background examples\n",
        "        n_backgroud += diff\n",
        "\n",
        "    # check if we have excessive background samples\n",
        "    if len(background_index_list) > n_backgroud:\n",
        "        # mark excessive samples as -1 (ignore)\n",
        "        ignore_index = background_index_list[n_backgroud:]\n",
        "        df.loc[ignore_index, \"label\"] = -1"
      ],
      "execution_count": 46,
      "outputs": []
    },
    {
      "cell_type": "code",
      "metadata": {
        "id": "48Wgnt1m81oX"
      },
      "source": [
        "sample_anchors_pre(df_iou)"
      ],
      "execution_count": 47,
      "outputs": []
    },
    {
      "cell_type": "markdown",
      "metadata": {
        "id": "n8CWTkRS81oX"
      },
      "source": [
        "# Computing anchor offsets with cooresponding ground truth box\n",
        "We train RPN to predict \"the difference between anchor box and ground truth box\" (or the offset of anchor box to ground truth box) so that we could adjust the anchor box to match the ground truth box.\n",
        "\n",
        "As we already have anchor boxes, we just need to adjust them to the best/ nearest ground truth boxes. These adjustment is give by:\n",
        "\n",
        "t_{x} = (x - x_{a})/w_{a} # predict the horizontal difference (we will add this to the achor box x coordinate)\n",
        " \n",
        "t_{y} = (y - y_{a})/h_{a} # predict the vertical difference (we will add this to the achor box y coordinate)\n",
        " \n",
        "t_{w} = log(w/ w_a) # predict log of ratio between ground truth and achor width(we will multiply this to the achor box width)\n",
        " \n",
        "t_{h} = log(h/ h_a) # predict log of ratio between ground truth and achor height(we will multiply this to the achor box height)\n",
        "\n",
        "x, y , w, h are the groud truth box center co-ordinates, width and height. x_a, y_a, h_a and w_a and anchor boxes center cooridinates, width and height.\n",
        "\n",
        "We will reverse the process to get the actual predicted bounding box.\n",
        "\n",
        "**Before proceeding, we need to convert anchor and ground truth coordinate from xmin, ymin, xmax, ymax to x_center, y_center, height and width to make above adjustment possible**"
      ]
    },
    {
      "cell_type": "code",
      "metadata": {
        "id": "oA-jKaSu81oX"
      },
      "source": [
        "# for each valid anchor box coordinate, convert coordinate format\n",
        "inside_anchor_width, inside_anchor_height, inside_anchor_center_x, inside_anchor_center_y =  to_center_format(\n",
        "    inside_anchor_list[:, 0], \n",
        "    inside_anchor_list[:, 1],\n",
        "    inside_anchor_list[:, 2],\n",
        "    inside_anchor_list[:, 3])\n",
        "\n",
        "\n",
        "# for each ground truth box corresponds to each anchor box coordinate, convert coordinate format\n",
        "gt_coordinates = []\n",
        "for idx in df_iou.best_gt:\n",
        "    gt_coordinates.append(bbox_list[idx])\n",
        "gt_coordinates = np.array(gt_coordinates)\n",
        "\n",
        "base_width, base_height, base_center_x, base_center_y =  to_center_format(\n",
        "    gt_coordinates[:, 0], \n",
        "    gt_coordinates[:, 1],\n",
        "    gt_coordinates[:, 2],\n",
        "    gt_coordinates[:, 3])"
      ],
      "execution_count": 48,
      "outputs": []
    },
    {
      "cell_type": "code",
      "metadata": {
        "id": "xyuK9QSr81oX"
      },
      "source": [
        "# the code below prevents from \"exp overflow\"\n",
        "eps = np.finfo(inside_anchor_width.dtype).eps\n",
        "inside_anchor_height = np.maximum(inside_anchor_height, eps)\n",
        "inside_anchor_width = np.maximum(inside_anchor_width, eps)\n",
        "\n",
        "# computing offset given by above expression\n",
        "dx = (base_center_x - inside_anchor_center_x)/ inside_anchor_width  # difference in centers of ground truth and anchor box across x axis\n",
        "dy = (base_center_y - inside_anchor_center_y)/  inside_anchor_height  # difference in centers of ground truth and anchor box across y axis\n",
        "dw = np.log(base_width/ inside_anchor_width) # log on ratio between ground truth width and anchor box width\n",
        "dh = np.log(base_height/ inside_anchor_height) # log on ratio between ground truth height and anchor box height"
      ],
      "execution_count": 49,
      "outputs": []
    },
    {
      "cell_type": "code",
      "metadata": {
        "id": "N9Ob2Ijn81oY"
      },
      "source": [
        "# adding offsets to the df\n",
        "df_iou[\"dx\"] = dx\n",
        "df_iou[\"dy\"] = dy\n",
        "df_iou[\"dw\"] = dw\n",
        "df_iou[\"dh\"] = dh"
      ],
      "execution_count": 50,
      "outputs": []
    },
    {
      "cell_type": "markdown",
      "metadata": {
        "id": "aZAzvSb781oY"
      },
      "source": [
        "# Final Labels And Offset List"
      ]
    },
    {
      "cell_type": "code",
      "metadata": {
        "id": "Sj5p9sGz81oY"
      },
      "source": [
        "# labels for all possible anchors\n",
        "label_list = np.empty(n_anchors, dtype = np.float32)\n",
        "label_list.fill(-1)\n",
        "label_list[df_iou.anchor_id.values] = df_iou.label.values\n",
        "label_list = np.expand_dims(label_list, 0)\n",
        "label_list = np.expand_dims(label_list, -1)"
      ],
      "execution_count": 51,
      "outputs": []
    },
    {
      "cell_type": "code",
      "metadata": {
        "scrolled": false,
        "id": "WU_a8xuv81oY",
        "outputId": "df62edc0-b2cb-43da-eaef-f6d44e17466b",
        "colab": {
          "base_uri": "https://localhost:8080/",
          "height": 424
        }
      },
      "source": [
        "df_iou"
      ],
      "execution_count": 52,
      "outputs": [
        {
          "output_type": "execute_result",
          "data": {
            "text/plain": [
              "      anchor_id  object_0_iou  object_1_iou  max_iou  best_gt  label  \\\n",
              "0          1404           0.0           0.0      0.0        0      0   \n",
              "1          1413           0.0           0.0      0.0        0      0   \n",
              "2          1422           0.0           0.0      0.0        0      0   \n",
              "3          1431           0.0           0.0      0.0        0      0   \n",
              "4          1440           0.0           0.0      0.0        0      0   \n",
              "...         ...           ...           ...      ...      ...    ...   \n",
              "8935      21051           0.0           0.0      0.0        0     -1   \n",
              "8936      21060           0.0           0.0      0.0        0     -1   \n",
              "8937      21069           0.0           0.0      0.0        0     -1   \n",
              "8938      21078           0.0           0.0      0.0        0     -1   \n",
              "8939      21087           0.0           0.0      0.0        0     -1   \n",
              "\n",
              "            dx        dy        dw        dh  \n",
              "0     3.612874  3.016252  1.567588  0.505179  \n",
              "1     3.612874  2.927864  1.567588  0.505179  \n",
              "2     3.612874  2.839476  1.567588  0.505179  \n",
              "3     3.612874  2.751087  1.567588  0.505179  \n",
              "4     3.612874  2.662699  1.567588  0.505179  \n",
              "...        ...       ...       ...       ...  \n",
              "8935 -3.988524  0.099437  1.567588  0.505179  \n",
              "8936 -3.988524  0.011049  1.567588  0.505179  \n",
              "8937 -3.988524 -0.077340  1.567588  0.505179  \n",
              "8938 -3.988524 -0.165728  1.567588  0.505179  \n",
              "8939 -3.988524 -0.254116  1.567588  0.505179  \n",
              "\n",
              "[8940 rows x 10 columns]"
            ],
            "text/html": [
              "\n",
              "  <div id=\"df-5a3e24b6-5517-4f65-a35d-f65e2c450541\">\n",
              "    <div class=\"colab-df-container\">\n",
              "      <div>\n",
              "<style scoped>\n",
              "    .dataframe tbody tr th:only-of-type {\n",
              "        vertical-align: middle;\n",
              "    }\n",
              "\n",
              "    .dataframe tbody tr th {\n",
              "        vertical-align: top;\n",
              "    }\n",
              "\n",
              "    .dataframe thead th {\n",
              "        text-align: right;\n",
              "    }\n",
              "</style>\n",
              "<table border=\"1\" class=\"dataframe\">\n",
              "  <thead>\n",
              "    <tr style=\"text-align: right;\">\n",
              "      <th></th>\n",
              "      <th>anchor_id</th>\n",
              "      <th>object_0_iou</th>\n",
              "      <th>object_1_iou</th>\n",
              "      <th>max_iou</th>\n",
              "      <th>best_gt</th>\n",
              "      <th>label</th>\n",
              "      <th>dx</th>\n",
              "      <th>dy</th>\n",
              "      <th>dw</th>\n",
              "      <th>dh</th>\n",
              "    </tr>\n",
              "  </thead>\n",
              "  <tbody>\n",
              "    <tr>\n",
              "      <th>0</th>\n",
              "      <td>1404</td>\n",
              "      <td>0.0</td>\n",
              "      <td>0.0</td>\n",
              "      <td>0.0</td>\n",
              "      <td>0</td>\n",
              "      <td>0</td>\n",
              "      <td>3.612874</td>\n",
              "      <td>3.016252</td>\n",
              "      <td>1.567588</td>\n",
              "      <td>0.505179</td>\n",
              "    </tr>\n",
              "    <tr>\n",
              "      <th>1</th>\n",
              "      <td>1413</td>\n",
              "      <td>0.0</td>\n",
              "      <td>0.0</td>\n",
              "      <td>0.0</td>\n",
              "      <td>0</td>\n",
              "      <td>0</td>\n",
              "      <td>3.612874</td>\n",
              "      <td>2.927864</td>\n",
              "      <td>1.567588</td>\n",
              "      <td>0.505179</td>\n",
              "    </tr>\n",
              "    <tr>\n",
              "      <th>2</th>\n",
              "      <td>1422</td>\n",
              "      <td>0.0</td>\n",
              "      <td>0.0</td>\n",
              "      <td>0.0</td>\n",
              "      <td>0</td>\n",
              "      <td>0</td>\n",
              "      <td>3.612874</td>\n",
              "      <td>2.839476</td>\n",
              "      <td>1.567588</td>\n",
              "      <td>0.505179</td>\n",
              "    </tr>\n",
              "    <tr>\n",
              "      <th>3</th>\n",
              "      <td>1431</td>\n",
              "      <td>0.0</td>\n",
              "      <td>0.0</td>\n",
              "      <td>0.0</td>\n",
              "      <td>0</td>\n",
              "      <td>0</td>\n",
              "      <td>3.612874</td>\n",
              "      <td>2.751087</td>\n",
              "      <td>1.567588</td>\n",
              "      <td>0.505179</td>\n",
              "    </tr>\n",
              "    <tr>\n",
              "      <th>4</th>\n",
              "      <td>1440</td>\n",
              "      <td>0.0</td>\n",
              "      <td>0.0</td>\n",
              "      <td>0.0</td>\n",
              "      <td>0</td>\n",
              "      <td>0</td>\n",
              "      <td>3.612874</td>\n",
              "      <td>2.662699</td>\n",
              "      <td>1.567588</td>\n",
              "      <td>0.505179</td>\n",
              "    </tr>\n",
              "    <tr>\n",
              "      <th>...</th>\n",
              "      <td>...</td>\n",
              "      <td>...</td>\n",
              "      <td>...</td>\n",
              "      <td>...</td>\n",
              "      <td>...</td>\n",
              "      <td>...</td>\n",
              "      <td>...</td>\n",
              "      <td>...</td>\n",
              "      <td>...</td>\n",
              "      <td>...</td>\n",
              "    </tr>\n",
              "    <tr>\n",
              "      <th>8935</th>\n",
              "      <td>21051</td>\n",
              "      <td>0.0</td>\n",
              "      <td>0.0</td>\n",
              "      <td>0.0</td>\n",
              "      <td>0</td>\n",
              "      <td>-1</td>\n",
              "      <td>-3.988524</td>\n",
              "      <td>0.099437</td>\n",
              "      <td>1.567588</td>\n",
              "      <td>0.505179</td>\n",
              "    </tr>\n",
              "    <tr>\n",
              "      <th>8936</th>\n",
              "      <td>21060</td>\n",
              "      <td>0.0</td>\n",
              "      <td>0.0</td>\n",
              "      <td>0.0</td>\n",
              "      <td>0</td>\n",
              "      <td>-1</td>\n",
              "      <td>-3.988524</td>\n",
              "      <td>0.011049</td>\n",
              "      <td>1.567588</td>\n",
              "      <td>0.505179</td>\n",
              "    </tr>\n",
              "    <tr>\n",
              "      <th>8937</th>\n",
              "      <td>21069</td>\n",
              "      <td>0.0</td>\n",
              "      <td>0.0</td>\n",
              "      <td>0.0</td>\n",
              "      <td>0</td>\n",
              "      <td>-1</td>\n",
              "      <td>-3.988524</td>\n",
              "      <td>-0.077340</td>\n",
              "      <td>1.567588</td>\n",
              "      <td>0.505179</td>\n",
              "    </tr>\n",
              "    <tr>\n",
              "      <th>8938</th>\n",
              "      <td>21078</td>\n",
              "      <td>0.0</td>\n",
              "      <td>0.0</td>\n",
              "      <td>0.0</td>\n",
              "      <td>0</td>\n",
              "      <td>-1</td>\n",
              "      <td>-3.988524</td>\n",
              "      <td>-0.165728</td>\n",
              "      <td>1.567588</td>\n",
              "      <td>0.505179</td>\n",
              "    </tr>\n",
              "    <tr>\n",
              "      <th>8939</th>\n",
              "      <td>21087</td>\n",
              "      <td>0.0</td>\n",
              "      <td>0.0</td>\n",
              "      <td>0.0</td>\n",
              "      <td>0</td>\n",
              "      <td>-1</td>\n",
              "      <td>-3.988524</td>\n",
              "      <td>-0.254116</td>\n",
              "      <td>1.567588</td>\n",
              "      <td>0.505179</td>\n",
              "    </tr>\n",
              "  </tbody>\n",
              "</table>\n",
              "<p>8940 rows × 10 columns</p>\n",
              "</div>\n",
              "      <button class=\"colab-df-convert\" onclick=\"convertToInteractive('df-5a3e24b6-5517-4f65-a35d-f65e2c450541')\"\n",
              "              title=\"Convert this dataframe to an interactive table.\"\n",
              "              style=\"display:none;\">\n",
              "        \n",
              "  <svg xmlns=\"http://www.w3.org/2000/svg\" height=\"24px\"viewBox=\"0 0 24 24\"\n",
              "       width=\"24px\">\n",
              "    <path d=\"M0 0h24v24H0V0z\" fill=\"none\"/>\n",
              "    <path d=\"M18.56 5.44l.94 2.06.94-2.06 2.06-.94-2.06-.94-.94-2.06-.94 2.06-2.06.94zm-11 1L8.5 8.5l.94-2.06 2.06-.94-2.06-.94L8.5 2.5l-.94 2.06-2.06.94zm10 10l.94 2.06.94-2.06 2.06-.94-2.06-.94-.94-2.06-.94 2.06-2.06.94z\"/><path d=\"M17.41 7.96l-1.37-1.37c-.4-.4-.92-.59-1.43-.59-.52 0-1.04.2-1.43.59L10.3 9.45l-7.72 7.72c-.78.78-.78 2.05 0 2.83L4 21.41c.39.39.9.59 1.41.59.51 0 1.02-.2 1.41-.59l7.78-7.78 2.81-2.81c.8-.78.8-2.07 0-2.86zM5.41 20L4 18.59l7.72-7.72 1.47 1.35L5.41 20z\"/>\n",
              "  </svg>\n",
              "      </button>\n",
              "      \n",
              "  <style>\n",
              "    .colab-df-container {\n",
              "      display:flex;\n",
              "      flex-wrap:wrap;\n",
              "      gap: 12px;\n",
              "    }\n",
              "\n",
              "    .colab-df-convert {\n",
              "      background-color: #E8F0FE;\n",
              "      border: none;\n",
              "      border-radius: 50%;\n",
              "      cursor: pointer;\n",
              "      display: none;\n",
              "      fill: #1967D2;\n",
              "      height: 32px;\n",
              "      padding: 0 0 0 0;\n",
              "      width: 32px;\n",
              "    }\n",
              "\n",
              "    .colab-df-convert:hover {\n",
              "      background-color: #E2EBFA;\n",
              "      box-shadow: 0px 1px 2px rgba(60, 64, 67, 0.3), 0px 1px 3px 1px rgba(60, 64, 67, 0.15);\n",
              "      fill: #174EA6;\n",
              "    }\n",
              "\n",
              "    [theme=dark] .colab-df-convert {\n",
              "      background-color: #3B4455;\n",
              "      fill: #D2E3FC;\n",
              "    }\n",
              "\n",
              "    [theme=dark] .colab-df-convert:hover {\n",
              "      background-color: #434B5C;\n",
              "      box-shadow: 0px 1px 3px 1px rgba(0, 0, 0, 0.15);\n",
              "      filter: drop-shadow(0px 1px 2px rgba(0, 0, 0, 0.3));\n",
              "      fill: #FFFFFF;\n",
              "    }\n",
              "  </style>\n",
              "\n",
              "      <script>\n",
              "        const buttonEl =\n",
              "          document.querySelector('#df-5a3e24b6-5517-4f65-a35d-f65e2c450541 button.colab-df-convert');\n",
              "        buttonEl.style.display =\n",
              "          google.colab.kernel.accessAllowed ? 'block' : 'none';\n",
              "\n",
              "        async function convertToInteractive(key) {\n",
              "          const element = document.querySelector('#df-5a3e24b6-5517-4f65-a35d-f65e2c450541');\n",
              "          const dataTable =\n",
              "            await google.colab.kernel.invokeFunction('convertToInteractive',\n",
              "                                                     [key], {});\n",
              "          if (!dataTable) return;\n",
              "\n",
              "          const docLinkHtml = 'Like what you see? Visit the ' +\n",
              "            '<a target=\"_blank\" href=https://colab.research.google.com/notebooks/data_table.ipynb>data table notebook</a>'\n",
              "            + ' to learn more about interactive tables.';\n",
              "          element.innerHTML = '';\n",
              "          dataTable['output_type'] = 'display_data';\n",
              "          await google.colab.output.renderOutput(dataTable, element);\n",
              "          const docLink = document.createElement('div');\n",
              "          docLink.innerHTML = docLinkHtml;\n",
              "          element.appendChild(docLink);\n",
              "        }\n",
              "      </script>\n",
              "    </div>\n",
              "  </div>\n",
              "  "
            ]
          },
          "metadata": {},
          "execution_count": 52
        }
      ]
    },
    {
      "cell_type": "code",
      "metadata": {
        "id": "gHwK7z1B81oY"
      },
      "source": [
        "# Offset for all possible anchors\n",
        "offset_list = np.empty(shape= anchor_list.shape, dtype= np.float32)\n",
        "offset_list.fill(0)\n",
        "offset_list[df_iou.anchor_id.values] = df_iou[[\"dx\", \"dy\", \"dw\", \"dh\"]].values\n",
        "offset_list = np.expand_dims(offset_list, 0)"
      ],
      "execution_count": 53,
      "outputs": []
    },
    {
      "cell_type": "code",
      "metadata": {
        "id": "AOwg3SsP81oY",
        "outputId": "cf9db895-6867-49a3-d4e9-2fb5524713a2",
        "colab": {
          "base_uri": "https://localhost:8080/"
        }
      },
      "source": [
        "# shape of both the array\n",
        "offset_list.shape, label_list.shape"
      ],
      "execution_count": 54,
      "outputs": [
        {
          "output_type": "execute_result",
          "data": {
            "text/plain": [
              "((1, 22500, 4), (1, 22500, 1))"
            ]
          },
          "metadata": {},
          "execution_count": 54
        }
      ]
    },
    {
      "cell_type": "code",
      "metadata": {
        "id": "ivg7DigW81oZ"
      },
      "source": [
        "# combine deltas and objectiveness score in one array\n",
        "offset_list_label_list = np.column_stack((offset_list[0], label_list[0]))[np.newaxis,:]"
      ],
      "execution_count": 55,
      "outputs": []
    },
    {
      "cell_type": "code",
      "metadata": {
        "id": "gfr4E1zr81oZ"
      },
      "source": [
        "input_shape = (w_feature_map, h_feature_map, 512) # 50x50X512\n",
        "k = 9\n",
        "input_ = Input(shape= input_shape)\n",
        "conv1 = Conv2D(512,\n",
        "               kernel_size= 3,\n",
        "               padding= \"same\",\n",
        "               kernel_initializer=initializers.RandomNormal(stddev=0.01),\n",
        "               bias_initializer=initializers.Zeros())(input_) # (kw * iw + 2*padding_w / s_w) + 1\n",
        "\n",
        "# delta regression\n",
        "regressor = Conv2D(4*k,\n",
        "                   kernel_size= 1,\n",
        "                   activation= \"linear\",\n",
        "                   name= \"delta_regression\",\n",
        "                  kernel_initializer=initializers.RandomNormal(stddev=0.01),\n",
        "                  bias_initializer=initializers.Zeros())(conv1) # (-1, 36)\n",
        "\n",
        "# objectiveness score\n",
        "classifier = Conv2D(k*1,\n",
        "                    kernel_size= 1,\n",
        "                    activation= \"sigmoid\",\n",
        "                    name=\"objectivess_score\",\n",
        "                    kernel_initializer=initializers.RandomNormal(stddev=0.01),\n",
        "                    bias_initializer=initializers.Zeros())(conv1)\n",
        "\n",
        "RPN = Model(inputs= [input_], outputs= [regressor, classifier])"
      ],
      "execution_count": 56,
      "outputs": []
    },
    {
      "cell_type": "code",
      "metadata": {
        "id": "s58Th8VL81oZ",
        "outputId": "fa8e1ca6-cbd2-41c4-95f7-112504b2d511",
        "colab": {
          "base_uri": "https://localhost:8080/"
        }
      },
      "source": [
        "RPN.summary()"
      ],
      "execution_count": 57,
      "outputs": [
        {
          "output_type": "stream",
          "name": "stdout",
          "text": [
            "Model: \"model_20\"\n",
            "__________________________________________________________________________________________________\n",
            " Layer (type)                   Output Shape         Param #     Connected to                     \n",
            "==================================================================================================\n",
            " input_2 (InputLayer)           [(None, 50, 50, 512  0           []                               \n",
            "                                )]                                                                \n",
            "                                                                                                  \n",
            " conv2d (Conv2D)                (None, 50, 50, 512)  2359808     ['input_2[0][0]']                \n",
            "                                                                                                  \n",
            " delta_regression (Conv2D)      (None, 50, 50, 36)   18468       ['conv2d[0][0]']                 \n",
            "                                                                                                  \n",
            " objectivess_score (Conv2D)     (None, 50, 50, 9)    4617        ['conv2d[0][0]']                 \n",
            "                                                                                                  \n",
            "==================================================================================================\n",
            "Total params: 2,382,893\n",
            "Trainable params: 2,382,893\n",
            "Non-trainable params: 0\n",
            "__________________________________________________________________________________________________\n"
          ]
        }
      ]
    },
    {
      "cell_type": "markdown",
      "metadata": {
        "id": "O1FifI_681oZ"
      },
      "source": [
        "# Custom loss function"
      ]
    },
    {
      "cell_type": "code",
      "metadata": {
        "id": "EaVr5voG81oZ"
      },
      "source": [
        "def smooth_l1_loss(y_true, y_pred):\n",
        "    \"\"\"\n",
        "    Calculates Smooth L1 loss\n",
        "    \"\"\"\n",
        "\n",
        "    # Take absolute difference\n",
        "    x = K.abs(y_true - y_pred)\n",
        "\n",
        "    # Find indices of values less than 1\n",
        "    mask = K.cast(K.less(x, 1.0), \"float32\")\n",
        "    # Loss calculation for smooth l1\n",
        "    loss = (mask * (0.5 * x ** 2)) + (1 - mask) * (x - 0.5)\n",
        "    return loss\n",
        "\n",
        "\n",
        "def custom_l1_loss(y_true, y_pred):\n",
        "    \"\"\"\n",
        "    Regress anchor offsets(deltas) * only consider foreground boxes\n",
        "    \"\"\"\n",
        "    offset_list= y_true[:,:,:-1]\n",
        "    label_list = y_true[:,:,-1]\n",
        "    \n",
        "    # reshape output by the model\n",
        "    y_pred = tf.reshape(y_pred, shape= (-1, n_anchors, 4))\n",
        "    \n",
        "    positive_idxs = tf.where(K.equal(label_list, 1)) # select only foreground boxes\n",
        "    \n",
        "    # Select positive predicted bbox shifts\n",
        "    bbox = tf.gather_nd(y_pred, positive_idxs)\n",
        "    \n",
        "    target_bbox = tf.gather_nd(offset_list, positive_idxs)\n",
        "    loss = smooth_l1_loss(target_bbox, bbox)\n",
        "\n",
        "    return K.mean(loss)\n",
        "\n",
        "def custom_binary_loss(y_true, y_pred_objectiveness):\n",
        "    '''\n",
        "    Select both foreground and background class and compute cross entropy\n",
        "    '''\n",
        "    \n",
        "    y_pred = tf.reshape(y_pred_objectiveness, shape= (-1, n_anchors))\n",
        "    y_true = tf.squeeze(y_true, -1)\n",
        "    \n",
        "    # Find indices of positive and negative anchors, not neutral\n",
        "    indices = tf.where(K.not_equal(y_true, -1)) # ignore -1 labels\n",
        "\n",
        "    # Pick rows that contribute to the loss and filter out the rest.\n",
        "    rpn_match_logits = tf.gather_nd(y_pred, indices)\n",
        "    anchor_class = tf.gather_nd(y_true, indices)\n",
        "    \n",
        "    \n",
        "    # Cross entropy loss\n",
        "    loss = K.binary_crossentropy(target=anchor_class,\n",
        "                                output=rpn_match_logits\n",
        "                                )\n",
        "    loss = K.switch(tf.size(loss) > 0, K.mean(loss), tf.constant(0.0))\n",
        "    \n",
        "    return loss\n",
        "\n",
        "RPN.compile(loss = [custom_l1_loss, custom_binary_loss], optimizer= \"adam\")"
      ],
      "execution_count": 58,
      "outputs": []
    },
    {
      "cell_type": "code",
      "metadata": {
        "id": "0eblVx1w81oa",
        "outputId": "c741cc23-1177-4e96-e323-7b91475a3453",
        "colab": {
          "base_uri": "https://localhost:8080/"
        }
      },
      "source": [
        "label_list.shape, offset_list_label_list.shape, feature_maps.shape"
      ],
      "execution_count": 59,
      "outputs": [
        {
          "output_type": "execute_result",
          "data": {
            "text/plain": [
              "((1, 22500, 1), (1, 22500, 5), (1, 50, 50, 512))"
            ]
          },
          "metadata": {},
          "execution_count": 59
        }
      ]
    },
    {
      "cell_type": "code",
      "metadata": {
        "scrolled": true,
        "id": "GizJKM8M81oa",
        "outputId": "debc1658-ddc4-4776-cde5-55e0d68f6b42",
        "colab": {
          "base_uri": "https://localhost:8080/"
        }
      },
      "source": [
        "RPN.fit(feature_maps,[offset_list_label_list, label_list], epochs= 100)"
      ],
      "execution_count": 60,
      "outputs": [
        {
          "output_type": "stream",
          "name": "stdout",
          "text": [
            "Epoch 1/100\n",
            "1/1 [==============================] - 3s 3s/step - loss: 0.7311 - delta_regression_loss: 0.0462 - objectivess_score_loss: 0.6850\n",
            "Epoch 2/100\n",
            "1/1 [==============================] - 1s 501ms/step - loss: 0.5574 - delta_regression_loss: 0.3810 - objectivess_score_loss: 0.1764\n",
            "Epoch 3/100\n",
            "1/1 [==============================] - 0s 477ms/step - loss: 0.2179 - delta_regression_loss: 0.1205 - objectivess_score_loss: 0.0974\n",
            "Epoch 4/100\n",
            "1/1 [==============================] - 0s 499ms/step - loss: 0.2384 - delta_regression_loss: 0.1795 - objectivess_score_loss: 0.0589\n",
            "Epoch 5/100\n",
            "1/1 [==============================] - 0s 480ms/step - loss: 0.1734 - delta_regression_loss: 0.1356 - objectivess_score_loss: 0.0378\n",
            "Epoch 6/100\n",
            "1/1 [==============================] - 0s 489ms/step - loss: 0.1061 - delta_regression_loss: 0.0800 - objectivess_score_loss: 0.0261\n",
            "Epoch 7/100\n",
            "1/1 [==============================] - 0s 482ms/step - loss: 0.0739 - delta_regression_loss: 0.0539 - objectivess_score_loss: 0.0201\n",
            "Epoch 8/100\n",
            "1/1 [==============================] - 0s 497ms/step - loss: 0.1482 - delta_regression_loss: 0.1312 - objectivess_score_loss: 0.0170\n",
            "Epoch 9/100\n",
            "1/1 [==============================] - 0s 472ms/step - loss: 0.0680 - delta_regression_loss: 0.0527 - objectivess_score_loss: 0.0154\n",
            "Epoch 10/100\n",
            "1/1 [==============================] - 0s 494ms/step - loss: 0.0328 - delta_regression_loss: 0.0184 - objectivess_score_loss: 0.0144\n",
            "Epoch 11/100\n",
            "1/1 [==============================] - 0s 468ms/step - loss: 0.0901 - delta_regression_loss: 0.0765 - objectivess_score_loss: 0.0136\n",
            "Epoch 12/100\n",
            "1/1 [==============================] - 0s 489ms/step - loss: 0.0689 - delta_regression_loss: 0.0560 - objectivess_score_loss: 0.0130\n",
            "Epoch 13/100\n",
            "1/1 [==============================] - 0s 483ms/step - loss: 0.0376 - delta_regression_loss: 0.0254 - objectivess_score_loss: 0.0123\n",
            "Epoch 14/100\n",
            "1/1 [==============================] - 0s 494ms/step - loss: 0.0359 - delta_regression_loss: 0.0243 - objectivess_score_loss: 0.0116\n",
            "Epoch 15/100\n",
            "1/1 [==============================] - 0s 472ms/step - loss: 0.0495 - delta_regression_loss: 0.0387 - objectivess_score_loss: 0.0108\n",
            "Epoch 16/100\n",
            "1/1 [==============================] - 0s 482ms/step - loss: 0.0542 - delta_regression_loss: 0.0442 - objectivess_score_loss: 0.0099\n",
            "Epoch 17/100\n",
            "1/1 [==============================] - 0s 480ms/step - loss: 0.0254 - delta_regression_loss: 0.0164 - objectivess_score_loss: 0.0090\n",
            "Epoch 18/100\n",
            "1/1 [==============================] - 0s 475ms/step - loss: 0.0163 - delta_regression_loss: 0.0082 - objectivess_score_loss: 0.0081\n",
            "Epoch 19/100\n",
            "1/1 [==============================] - 0s 492ms/step - loss: 0.0373 - delta_regression_loss: 0.0301 - objectivess_score_loss: 0.0072\n",
            "Epoch 20/100\n",
            "1/1 [==============================] - 1s 701ms/step - loss: 0.0335 - delta_regression_loss: 0.0272 - objectivess_score_loss: 0.0063\n",
            "Epoch 21/100\n",
            "1/1 [==============================] - 1s 821ms/step - loss: 0.0124 - delta_regression_loss: 0.0069 - objectivess_score_loss: 0.0055\n",
            "Epoch 22/100\n",
            "1/1 [==============================] - 1s 820ms/step - loss: 0.0143 - delta_regression_loss: 0.0095 - objectivess_score_loss: 0.0047\n",
            "Epoch 23/100\n",
            "1/1 [==============================] - 1s 864ms/step - loss: 0.0234 - delta_regression_loss: 0.0194 - objectivess_score_loss: 0.0041\n",
            "Epoch 24/100\n",
            "1/1 [==============================] - 0s 493ms/step - loss: 0.0185 - delta_regression_loss: 0.0151 - objectivess_score_loss: 0.0034\n",
            "Epoch 25/100\n",
            "1/1 [==============================] - 0s 476ms/step - loss: 0.0117 - delta_regression_loss: 0.0088 - objectivess_score_loss: 0.0029\n",
            "Epoch 26/100\n",
            "1/1 [==============================] - 0s 477ms/step - loss: 0.0083 - delta_regression_loss: 0.0058 - objectivess_score_loss: 0.0025\n",
            "Epoch 27/100\n",
            "1/1 [==============================] - 0s 489ms/step - loss: 0.0108 - delta_regression_loss: 0.0087 - objectivess_score_loss: 0.0021\n",
            "Epoch 28/100\n",
            "1/1 [==============================] - 0s 470ms/step - loss: 0.0145 - delta_regression_loss: 0.0127 - objectivess_score_loss: 0.0018\n",
            "Epoch 29/100\n",
            "1/1 [==============================] - 0s 478ms/step - loss: 0.0082 - delta_regression_loss: 0.0067 - objectivess_score_loss: 0.0016\n",
            "Epoch 30/100\n",
            "1/1 [==============================] - 0s 482ms/step - loss: 0.0038 - delta_regression_loss: 0.0024 - objectivess_score_loss: 0.0014\n",
            "Epoch 31/100\n",
            "1/1 [==============================] - 0s 469ms/step - loss: 0.0083 - delta_regression_loss: 0.0071 - objectivess_score_loss: 0.0012\n",
            "Epoch 32/100\n",
            "1/1 [==============================] - 0s 482ms/step - loss: 0.0092 - delta_regression_loss: 0.0082 - objectivess_score_loss: 0.0011\n",
            "Epoch 33/100\n",
            "1/1 [==============================] - 1s 501ms/step - loss: 0.0051 - delta_regression_loss: 0.0041 - objectivess_score_loss: 9.7241e-04\n",
            "Epoch 34/100\n",
            "1/1 [==============================] - 0s 473ms/step - loss: 0.0040 - delta_regression_loss: 0.0032 - objectivess_score_loss: 8.8753e-04\n",
            "Epoch 35/100\n",
            "1/1 [==============================] - 0s 493ms/step - loss: 0.0050 - delta_regression_loss: 0.0041 - objectivess_score_loss: 8.1824e-04\n",
            "Epoch 36/100\n",
            "1/1 [==============================] - 0s 482ms/step - loss: 0.0048 - delta_regression_loss: 0.0041 - objectivess_score_loss: 7.6081e-04\n",
            "Epoch 37/100\n",
            "1/1 [==============================] - 0s 497ms/step - loss: 0.0046 - delta_regression_loss: 0.0039 - objectivess_score_loss: 7.1245e-04\n",
            "Epoch 38/100\n",
            "1/1 [==============================] - 0s 468ms/step - loss: 0.0030 - delta_regression_loss: 0.0024 - objectivess_score_loss: 6.7117e-04\n",
            "Epoch 39/100\n",
            "1/1 [==============================] - 0s 481ms/step - loss: 0.0027 - delta_regression_loss: 0.0021 - objectivess_score_loss: 6.3562e-04\n",
            "Epoch 40/100\n",
            "1/1 [==============================] - 0s 476ms/step - loss: 0.0042 - delta_regression_loss: 0.0036 - objectivess_score_loss: 6.0506e-04\n",
            "Epoch 41/100\n",
            "1/1 [==============================] - 0s 476ms/step - loss: 0.0032 - delta_regression_loss: 0.0027 - objectivess_score_loss: 5.7876e-04\n",
            "Epoch 42/100\n",
            "1/1 [==============================] - 0s 489ms/step - loss: 0.0021 - delta_regression_loss: 0.0015 - objectivess_score_loss: 5.5551e-04\n",
            "Epoch 43/100\n",
            "1/1 [==============================] - 0s 475ms/step - loss: 0.0025 - delta_regression_loss: 0.0020 - objectivess_score_loss: 5.3411e-04\n",
            "Epoch 44/100\n",
            "1/1 [==============================] - 1s 653ms/step - loss: 0.0024 - delta_regression_loss: 0.0019 - objectivess_score_loss: 5.1389e-04\n",
            "Epoch 45/100\n",
            "1/1 [==============================] - 1s 828ms/step - loss: 0.0022 - delta_regression_loss: 0.0017 - objectivess_score_loss: 4.9465e-04\n",
            "Epoch 46/100\n",
            "1/1 [==============================] - 1s 840ms/step - loss: 0.0021 - delta_regression_loss: 0.0016 - objectivess_score_loss: 4.7626e-04\n",
            "Epoch 47/100\n",
            "1/1 [==============================] - 1s 823ms/step - loss: 0.0015 - delta_regression_loss: 0.0011 - objectivess_score_loss: 4.5878e-04\n",
            "Epoch 48/100\n",
            "1/1 [==============================] - 1s 605ms/step - loss: 0.0017 - delta_regression_loss: 0.0012 - objectivess_score_loss: 4.4237e-04\n",
            "Epoch 49/100\n",
            "1/1 [==============================] - 0s 483ms/step - loss: 0.0021 - delta_regression_loss: 0.0016 - objectivess_score_loss: 4.2708e-04\n",
            "Epoch 50/100\n",
            "1/1 [==============================] - 0s 487ms/step - loss: 0.0014 - delta_regression_loss: 0.0010 - objectivess_score_loss: 4.1263e-04\n",
            "Epoch 51/100\n",
            "1/1 [==============================] - 0s 484ms/step - loss: 0.0013 - delta_regression_loss: 8.6683e-04 - objectivess_score_loss: 3.9857e-04\n",
            "Epoch 52/100\n",
            "1/1 [==============================] - 1s 508ms/step - loss: 0.0014 - delta_regression_loss: 9.6822e-04 - objectivess_score_loss: 3.8465e-04\n",
            "Epoch 53/100\n",
            "1/1 [==============================] - 0s 475ms/step - loss: 0.0013 - delta_regression_loss: 9.4732e-04 - objectivess_score_loss: 3.7101e-04\n",
            "Epoch 54/100\n",
            "1/1 [==============================] - 1s 502ms/step - loss: 0.0013 - delta_regression_loss: 9.1357e-04 - objectivess_score_loss: 3.5800e-04\n",
            "Epoch 55/100\n",
            "1/1 [==============================] - 0s 481ms/step - loss: 9.3231e-04 - delta_regression_loss: 5.8651e-04 - objectivess_score_loss: 3.4580e-04\n",
            "Epoch 56/100\n",
            "1/1 [==============================] - 0s 492ms/step - loss: 9.3294e-04 - delta_regression_loss: 5.9859e-04 - objectivess_score_loss: 3.3434e-04\n",
            "Epoch 57/100\n",
            "1/1 [==============================] - 0s 490ms/step - loss: 0.0013 - delta_regression_loss: 9.4633e-04 - objectivess_score_loss: 3.2348e-04\n",
            "Epoch 58/100\n",
            "1/1 [==============================] - 0s 495ms/step - loss: 9.4016e-04 - delta_regression_loss: 6.2707e-04 - objectivess_score_loss: 3.1309e-04\n",
            "Epoch 59/100\n",
            "1/1 [==============================] - 0s 473ms/step - loss: 6.9801e-04 - delta_regression_loss: 3.9488e-04 - objectivess_score_loss: 3.0313e-04\n",
            "Epoch 60/100\n",
            "1/1 [==============================] - 0s 489ms/step - loss: 9.0593e-04 - delta_regression_loss: 6.1240e-04 - objectivess_score_loss: 2.9353e-04\n",
            "Epoch 61/100\n",
            "1/1 [==============================] - 0s 472ms/step - loss: 9.0707e-04 - delta_regression_loss: 6.2270e-04 - objectivess_score_loss: 2.8437e-04\n",
            "Epoch 62/100\n",
            "1/1 [==============================] - 0s 498ms/step - loss: 7.6786e-04 - delta_regression_loss: 4.9210e-04 - objectivess_score_loss: 2.7576e-04\n",
            "Epoch 63/100\n",
            "1/1 [==============================] - 0s 497ms/step - loss: 6.1597e-04 - delta_regression_loss: 3.4832e-04 - objectivess_score_loss: 2.6765e-04\n",
            "Epoch 64/100\n",
            "1/1 [==============================] - 0s 498ms/step - loss: 7.2751e-04 - delta_regression_loss: 4.6757e-04 - objectivess_score_loss: 2.5994e-04\n",
            "Epoch 65/100\n",
            "1/1 [==============================] - 0s 474ms/step - loss: 8.0827e-04 - delta_regression_loss: 5.5567e-04 - objectivess_score_loss: 2.5259e-04\n",
            "Epoch 66/100\n",
            "1/1 [==============================] - 0s 498ms/step - loss: 5.6732e-04 - delta_regression_loss: 3.2170e-04 - objectivess_score_loss: 2.4563e-04\n",
            "Epoch 67/100\n",
            "1/1 [==============================] - 0s 477ms/step - loss: 5.5655e-04 - delta_regression_loss: 3.1754e-04 - objectivess_score_loss: 2.3901e-04\n",
            "Epoch 68/100\n",
            "1/1 [==============================] - 1s 601ms/step - loss: 7.0054e-04 - delta_regression_loss: 4.6783e-04 - objectivess_score_loss: 2.3271e-04\n",
            "Epoch 69/100\n",
            "1/1 [==============================] - 1s 826ms/step - loss: 5.9067e-04 - delta_regression_loss: 3.6396e-04 - objectivess_score_loss: 2.2671e-04\n",
            "Epoch 70/100\n",
            "1/1 [==============================] - 1s 757ms/step - loss: 5.1292e-04 - delta_regression_loss: 2.9188e-04 - objectivess_score_loss: 2.2104e-04\n",
            "Epoch 71/100\n",
            "1/1 [==============================] - 1s 808ms/step - loss: 5.3240e-04 - delta_regression_loss: 3.1670e-04 - objectivess_score_loss: 2.1569e-04\n",
            "Epoch 72/100\n",
            "1/1 [==============================] - 1s 722ms/step - loss: 5.8724e-04 - delta_regression_loss: 3.7661e-04 - objectivess_score_loss: 2.1063e-04\n",
            "Epoch 73/100\n",
            "1/1 [==============================] - 0s 478ms/step - loss: 5.1538e-04 - delta_regression_loss: 3.0958e-04 - objectivess_score_loss: 2.0581e-04\n",
            "Epoch 74/100\n",
            "1/1 [==============================] - 0s 493ms/step - loss: 4.4425e-04 - delta_regression_loss: 2.4302e-04 - objectivess_score_loss: 2.0123e-04\n",
            "Epoch 75/100\n",
            "1/1 [==============================] - 0s 471ms/step - loss: 5.2005e-04 - delta_regression_loss: 3.2316e-04 - objectivess_score_loss: 1.9689e-04\n",
            "Epoch 76/100\n",
            "1/1 [==============================] - 0s 482ms/step - loss: 4.9748e-04 - delta_regression_loss: 3.0471e-04 - objectivess_score_loss: 1.9277e-04\n",
            "Epoch 77/100\n",
            "1/1 [==============================] - 0s 485ms/step - loss: 4.3240e-04 - delta_regression_loss: 2.4358e-04 - objectivess_score_loss: 1.8883e-04\n",
            "Epoch 78/100\n",
            "1/1 [==============================] - 0s 479ms/step - loss: 4.5481e-04 - delta_regression_loss: 2.6976e-04 - objectivess_score_loss: 1.8505e-04\n",
            "Epoch 79/100\n",
            "1/1 [==============================] - 0s 488ms/step - loss: 4.5959e-04 - delta_regression_loss: 2.7818e-04 - objectivess_score_loss: 1.8141e-04\n",
            "Epoch 80/100\n",
            "1/1 [==============================] - 0s 472ms/step - loss: 4.3906e-04 - delta_regression_loss: 2.6114e-04 - objectivess_score_loss: 1.7792e-04\n",
            "Epoch 81/100\n",
            "1/1 [==============================] - 0s 496ms/step - loss: 4.0686e-04 - delta_regression_loss: 2.3225e-04 - objectivess_score_loss: 1.7460e-04\n",
            "Epoch 82/100\n",
            "1/1 [==============================] - 0s 478ms/step - loss: 4.2477e-04 - delta_regression_loss: 2.5332e-04 - objectivess_score_loss: 1.7145e-04\n",
            "Epoch 83/100\n",
            "1/1 [==============================] - 1s 515ms/step - loss: 4.2356e-04 - delta_regression_loss: 2.5512e-04 - objectivess_score_loss: 1.6843e-04\n",
            "Epoch 84/100\n",
            "1/1 [==============================] - 0s 495ms/step - loss: 3.8868e-04 - delta_regression_loss: 2.2316e-04 - objectivess_score_loss: 1.6552e-04\n",
            "Epoch 85/100\n",
            "1/1 [==============================] - 0s 490ms/step - loss: 4.0041e-04 - delta_regression_loss: 2.3772e-04 - objectivess_score_loss: 1.6269e-04\n",
            "Epoch 86/100\n",
            "1/1 [==============================] - 0s 482ms/step - loss: 3.9723e-04 - delta_regression_loss: 2.3726e-04 - objectivess_score_loss: 1.5997e-04\n",
            "Epoch 87/100\n",
            "1/1 [==============================] - 0s 487ms/step - loss: 3.9108e-04 - delta_regression_loss: 2.3371e-04 - objectivess_score_loss: 1.5737e-04\n",
            "Epoch 88/100\n",
            "1/1 [==============================] - 0s 472ms/step - loss: 3.8302e-04 - delta_regression_loss: 2.2815e-04 - objectivess_score_loss: 1.5487e-04\n",
            "Epoch 89/100\n",
            "1/1 [==============================] - 0s 481ms/step - loss: 3.8280e-04 - delta_regression_loss: 2.3031e-04 - objectivess_score_loss: 1.5248e-04\n",
            "Epoch 90/100\n",
            "1/1 [==============================] - 0s 477ms/step - loss: 3.7935e-04 - delta_regression_loss: 2.2917e-04 - objectivess_score_loss: 1.5018e-04\n",
            "Epoch 91/100\n",
            "1/1 [==============================] - 0s 491ms/step - loss: 3.5999e-04 - delta_regression_loss: 2.1205e-04 - objectivess_score_loss: 1.4794e-04\n",
            "Epoch 92/100\n",
            "1/1 [==============================] - 1s 508ms/step - loss: 3.6006e-04 - delta_regression_loss: 2.1430e-04 - objectivess_score_loss: 1.4576e-04\n",
            "Epoch 93/100\n",
            "1/1 [==============================] - 1s 778ms/step - loss: 3.5941e-04 - delta_regression_loss: 2.1578e-04 - objectivess_score_loss: 1.4364e-04\n",
            "Epoch 94/100\n",
            "1/1 [==============================] - 1s 841ms/step - loss: 3.5610e-04 - delta_regression_loss: 2.1451e-04 - objectivess_score_loss: 1.4160e-04\n",
            "Epoch 95/100\n",
            "1/1 [==============================] - 1s 844ms/step - loss: 3.4615e-04 - delta_regression_loss: 2.0652e-04 - objectivess_score_loss: 1.3962e-04\n",
            "Epoch 96/100\n",
            "1/1 [==============================] - 1s 746ms/step - loss: 3.4239e-04 - delta_regression_loss: 2.0467e-04 - objectivess_score_loss: 1.3772e-04\n",
            "Epoch 97/100\n",
            "1/1 [==============================] - 0s 490ms/step - loss: 3.4607e-04 - delta_regression_loss: 2.1020e-04 - objectivess_score_loss: 1.3587e-04\n",
            "Epoch 98/100\n",
            "1/1 [==============================] - 1s 503ms/step - loss: 3.3708e-04 - delta_regression_loss: 2.0302e-04 - objectivess_score_loss: 1.3405e-04\n",
            "Epoch 99/100\n",
            "1/1 [==============================] - 0s 495ms/step - loss: 3.3280e-04 - delta_regression_loss: 2.0052e-04 - objectivess_score_loss: 1.3227e-04\n",
            "Epoch 100/100\n",
            "1/1 [==============================] - 0s 482ms/step - loss: 3.3239e-04 - delta_regression_loss: 2.0184e-04 - objectivess_score_loss: 1.3055e-04\n"
          ]
        },
        {
          "output_type": "execute_result",
          "data": {
            "text/plain": [
              "<keras.callbacks.History at 0x7fe549bc4a00>"
            ]
          },
          "metadata": {},
          "execution_count": 60
        }
      ]
    },
    {
      "cell_type": "code",
      "metadata": {
        "id": "IXfEHv-q81oa",
        "outputId": "060e07ce-c2d9-48cb-a953-7e2ce411072b",
        "colab": {
          "base_uri": "https://localhost:8080/"
        }
      },
      "source": [
        "# get the offset and objectiveness score\n",
        "anchor_deltas, objectiveness_score = RPN.predict(feature_maps)\n",
        "\n",
        "\n",
        "# shape both predictions\n",
        "anchor_deltas = anchor_deltas.reshape(-1, n_anchors, 4) # 50*50*9, 4\n",
        "objectiveness_score = objectiveness_score.reshape(-1, n_anchors) # 50*50*9, 1\n",
        "\n",
        "# parse anchor deltas\n",
        "dx = anchor_deltas[:, :, 0]\n",
        "dy = anchor_deltas[:, :, 1]\n",
        "dw = anchor_deltas[:, :, 2]\n",
        "dh = anchor_deltas[:, :, 3]\n",
        "\n",
        "print(anchor_deltas.shape, objectiveness_score.shape)"
      ],
      "execution_count": 61,
      "outputs": [
        {
          "output_type": "stream",
          "name": "stdout",
          "text": [
            "1/1 [==============================] - 0s 268ms/step\n",
            "(1, 22500, 4) (1, 22500)\n"
          ]
        }
      ]
    },
    {
      "cell_type": "markdown",
      "metadata": {
        "id": "4Ru9rCC-81oa"
      },
      "source": [
        "# Clipping, Filtering And Non-max Suppression(NMS)\n",
        "Now we have anchor deltas and objectiveness score for each anchor boxes, we will adjust our anchor boxes (based on the deltas), further process them and filter boxes based on the following:\n",
        "* Clip the proposals boxes to the image.\n",
        "* Remove the proposals whos height or width is less than some threshold value.\n",
        "* Sort all proposals based on the objectiveness score."
      ]
    },
    {
      "cell_type": "code",
      "metadata": {
        "id": "C5WKWpcH81oa"
      },
      "source": [
        "anchor_list = anchor_list.squeeze()\n",
        "anchor_list = np.expand_dims(anchor_list, 0)"
      ],
      "execution_count": 62,
      "outputs": []
    },
    {
      "cell_type": "code",
      "metadata": {
        "id": "wbm5kdr281ob"
      },
      "source": [
        "# for each anchor box, convert coordinate format (min_x, min_y, max_x, max_y to height, width, center_x)\n",
        "anchor_width, anchor_height, anchor_center_x, anchor_center_y =  to_center_format(\n",
        "    anchor_list[0][:, 0], \n",
        "    anchor_list[0][:, 1],\n",
        "    anchor_list[0][:, 2],\n",
        "    anchor_list[0][:, 3])\n",
        "\n",
        "# get the region proposals (adjust the anchor boxes to the offset predicted by our model)\n",
        "roi_width, roi_height, roi_center_x, roi_center_y = adjust_deltas(anchor_width,\n",
        "                                                      anchor_height,\n",
        "                                                      anchor_center_x,\n",
        "                                                      anchor_center_y,\n",
        "                                                      dx,\n",
        "                                                      dy,\n",
        "                                                      dw,\n",
        "                                                      dh)"
      ],
      "execution_count": 63,
      "outputs": []
    },
    {
      "cell_type": "code",
      "metadata": {
        "id": "r-X-R7EH81ob"
      },
      "source": [
        "# ROI format conversion (width, height,center x, centery ===> min x, min y, max x, max y)\n",
        "roi_min_x, roi_min_y, roi_max_x, roi_max_y = to_VOC_format(roi_width, roi_height, roi_center_x, roi_center_y)\n",
        "roi = np.vstack((roi_min_x, roi_min_y, roi_max_x, roi_max_y)).T"
      ],
      "execution_count": 64,
      "outputs": []
    },
    {
      "cell_type": "code",
      "metadata": {
        "id": "eWKs3H9381ob"
      },
      "source": [
        "# clipping the predicted boxes to the image\n",
        "roi = np.clip(roi, 0, 800)"
      ],
      "execution_count": 65,
      "outputs": []
    },
    {
      "cell_type": "code",
      "metadata": {
        "id": "OpQV6Nvo81ob"
      },
      "source": [
        "# remove predicted boxes with either height or width < threshold.\n",
        "min_size = 16\n",
        "width = roi[:, 2] - roi[:, 0] # xmax - xmin\n",
        "height = roi[:, 3] - roi[:, 1] # ymin - ymax\n",
        "keep = np.where((width > min_size) & (height> min_size))[0]\n",
        "roi = roi[keep]\n",
        "score = objectiveness_score[:,keep]"
      ],
      "execution_count": 66,
      "outputs": []
    },
    {
      "cell_type": "code",
      "metadata": {
        "id": "EHjAw70k81ob"
      },
      "source": [
        "# Sort all (proposal, score) pairs by score from highest to lowest.\n",
        "sorted_idx = score.flatten().argsort()[::-1]\n",
        "score_sorted = score[:, sorted_idx]\n",
        "roi_sorted = roi[sorted_idx]"
      ],
      "execution_count": 67,
      "outputs": []
    },
    {
      "cell_type": "code",
      "metadata": {
        "id": "jYpFuHOQ81ob",
        "outputId": "20bffd6b-19ce-465e-c5d6-8e188325e7d3",
        "colab": {
          "base_uri": "https://localhost:8080/"
        }
      },
      "source": [
        "sorted_idx.shape, score_sorted.shape, roi_sorted.shape"
      ],
      "execution_count": 68,
      "outputs": [
        {
          "output_type": "execute_result",
          "data": {
            "text/plain": [
              "((19289,), (1, 19289), (19289, 4))"
            ]
          },
          "metadata": {},
          "execution_count": 68
        }
      ]
    },
    {
      "cell_type": "markdown",
      "metadata": {
        "id": "TJkoMmW681oc"
      },
      "source": [
        "* Select top N proposals (pre_NMS_topN) from the sorted roi and scores\n",
        "* apply NMS to eliminate highly overlapping anchor box (ROI proposals) and select 2000 filtered proposals"
      ]
    },
    {
      "cell_type": "code",
      "metadata": {
        "id": "Xt3St1xV81oc"
      },
      "source": [
        "# select top N proposals (top 12000)\n",
        "pre_NMS_topN = 12000\n",
        "score_sorted = score_sorted[:, :pre_NMS_topN]\n",
        "roi_sorted = roi_sorted[:pre_NMS_topN]"
      ],
      "execution_count": 69,
      "outputs": []
    },
    {
      "cell_type": "code",
      "metadata": {
        "id": "Cr-kyWrt81oc"
      },
      "source": [
        "# apply non-max supression on 12000 roi\n",
        "roi_idx = np.array(range(pre_NMS_topN))\n",
        "\n",
        "# total number of ROIs to select after NMS\n",
        "n_train_post_nms = 2000\n",
        "\n",
        "\n",
        "x1 = roi_sorted[:, 0]\n",
        "y1 = roi_sorted[:, 1]\n",
        "x2 = roi_sorted[:, 2]\n",
        "y2 = roi_sorted[:, 3]\n",
        "\n",
        "# area of all roi\n",
        "# + 1 to prevent division by zero\n",
        "width_list = (x2 - x1) + 1 \n",
        "height_list = (y2 - y1) + 1\n",
        "area_list =  width_list * height_list\n",
        "\n",
        "# rois to keep as region proposals\n",
        "keep = []\n",
        "\n",
        "while roi_idx.size > 0:\n",
        "    # take the first roi index\n",
        "    current_id = roi_idx[0]\n",
        "    \n",
        "    # add the current rio to keep list\n",
        "    keep.append(current_id)\n",
        "    \n",
        "    # maximum of x1 of current and all other x1 roi\n",
        "    xx1 = np.maximum(x1[current_id], x1[roi_idx[1:]])\n",
        "    \n",
        "    # maximum of y1 of current and all other y1 roi\n",
        "    yy1 = np.maximum(y1[current_id], y1[roi_idx[1:]])\n",
        "    \n",
        "    # maximum of x2 of current and all other x2 roi\n",
        "    xx2 = np.minimum(x2[current_id], x2[roi_idx[1:]])\n",
        "    \n",
        "    # maximum of y2 of current and all other y2 roi\n",
        "    yy2 = np.minimum(y2[current_id], y2[roi_idx[1:]])\n",
        "    \n",
        "    # width of all the intersection area\n",
        "    w = np.maximum(0. ,xx2 - xx1 +1)\n",
        "    \n",
        "    # height of all the intersection boxes\n",
        "    h = np.maximum(0., yy2 - yy1 +1)\n",
        "    \n",
        "    # area of all the intersection boxes\n",
        "    inter = w * h\n",
        "    \n",
        "    # IOU current ROI and rest of the ROIs\n",
        "    iou = inter/ (area_list[current_id] + area_list[roi_idx[1:]] - inter)\n",
        "    # select boxes whose overlap is less than the threshold\n",
        "    keep_idx = np.where(iou <= 0.7)[0]\n",
        "    \n",
        "    # update the ROI index list(* note +1 to the indices list)\n",
        "    roi_idx = roi_idx[keep_idx + 1]"
      ],
      "execution_count": 70,
      "outputs": []
    },
    {
      "cell_type": "code",
      "metadata": {
        "id": "KiCQFQQl81oc"
      },
      "source": [
        "# select only top 2000 proposals\n",
        "keep = keep[: n_train_post_nms]\n",
        "roi_sorted = roi_sorted[keep]\n",
        "score_sorted = score_sorted[:, keep]"
      ],
      "execution_count": 71,
      "outputs": []
    },
    {
      "cell_type": "code",
      "metadata": {
        "scrolled": true,
        "id": "hhGxfgRi81oc",
        "outputId": "2d2b851a-8b17-4ee9-8dba-cee24dedf47c",
        "colab": {
          "base_uri": "https://localhost:8080/",
          "height": 269
        }
      },
      "source": [
        "# visualizing top 20 anchor boxes\n",
        "img_ = np.copy(img)\n",
        "for i in range(0, 20):  # 5625// 2\n",
        "    x_min = int(roi_sorted[i][0])\n",
        "    y_min = int(roi_sorted[i][1])\n",
        "    x_max = int(roi_sorted[i][2])\n",
        "    y_max = int(roi_sorted[i][3])\n",
        "    cv2.rectangle(img_, (x_min, y_min), (x_max, y_max), color=(255, 0, 0), thickness=3) \n",
        "\n",
        "for i, bbox in enumerate(bbox_list):\n",
        "    cv2.rectangle(img_, (bbox[0], bbox[1]), (bbox[2], bbox[3]), color=(0, 255, 0), thickness=3)\n",
        "\n",
        "plt.imshow(img_)\n",
        "plt.show()"
      ],
      "execution_count": 72,
      "outputs": [
        {
          "output_type": "display_data",
          "data": {
            "text/plain": [
              "<Figure size 432x288 with 1 Axes>"
            ],
            "image/png": "[encoded data removed]"
          },
          "metadata": {
            "needs_background": "light"
          }
        }
      ]
    },
    {
      "cell_type": "markdown",
      "metadata": {
        "id": "WPuuMgAc81od"
      },
      "source": [
        "# Final Post Processing ( assigning ground truth boxes and lables to the top 2000 region proposals (adjusted anchor boxes)\n",
        "After getting top 2000 anchor boxes, we will assign each of the anchor box to the ground truth box based on the IOU ( exactly same process as we have performed earlier).\n",
        "\n",
        "After assignment of ground truth boxes to the region proposals, we will further eliminate the anchor boxes based on the following rule.\n",
        "* Assign label \"1\" (as foreground) to the bounding boxes whose overlap with any ground truth box is greater than 50%\n",
        "* Assign label \"0\" (as background) to the bounding boxes whose overlap with any ground truth box is smaller than 50% but greater than equal to 10%."
      ]
    },
    {
      "cell_type": "code",
      "metadata": {
        "id": "g1HQy9Ix81od"
      },
      "source": [
        "# find IOU of all region proposals with all ground truth boxes\n",
        "iou_sorted = np.zeros((n_train_post_nms, len(labels)))\n",
        "\n",
        "# for each proposal\n",
        "for i, bbox in enumerate(roi_sorted):\n",
        "    \n",
        "    # for each ground truth box\n",
        "    for j, gt_box in enumerate(bbox_list):\n",
        "        iou_sorted[i][j] = IOU(bbox, gt_box)\n",
        "\n",
        "# get the max iou for each proposal\n",
        "max_iou_sorted = np.max(iou_sorted, axis= 1)\n",
        "\n",
        "# assign the ground truth box to each proposal\n",
        "gt_assign = np.argmax(iou_sorted, axis= 1)\n",
        "\n",
        "# assign class labels to each proposal\n",
        "gt_roi_label = labels[gt_assign] # {\"dog\":1, \"cat\":2, and so on}, this will be used by RPN classification head"
      ],
      "execution_count": 73,
      "outputs": []
    },
    {
      "cell_type": "code",
      "metadata": {
        "id": "X1uG3kW481od"
      },
      "source": [
        "# threshold for foreground and background labels\n",
        "pos_threshold = 0.5\n",
        "neg_threshold_hi = 0.5\n",
        "neg_threshold_lo = 0.1\n",
        "\n",
        "# select proposals whose IOU is atleast 50%\n",
        "keep_pos_idx_list = np.where(max_iou_sorted >= pos_threshold)[0]\n",
        "\n",
        "# select proposals whose IOU is less than 50% but greater than or equal to lower limit 10%\n",
        "keep_neg_idx_list = np.where((max_iou_sorted < neg_threshold_hi) & (max_iou_sorted >=neg_threshold_lo))[0]"
      ],
      "execution_count": 74,
      "outputs": []
    },
    {
      "cell_type": "code",
      "metadata": {
        "id": "HbWnARRp81od"
      },
      "source": [
        "# select 128 proposals of both classes (foreground and background)\n",
        "n_samples = 128\n",
        "neg_ratio = 0.75\n",
        "# number of foreground and background class\n",
        "n_foreground = int((1-neg_ratio) * n_samples)\n",
        "n_backgroud = int(neg_ratio * n_samples)\n",
        "\n",
        "# index of foreground and background ROIs\n",
        "foreground_index_list = keep_pos_idx_list\n",
        "background_index_list = keep_neg_idx_list\n",
        "\n",
        "# check if we have excessive foreground samples\n",
        "if len(foreground_index_list) > n_foreground:\n",
        "    # randomly sample 32 foreground proposals\n",
        "    select_pos_index_list = np.random.choice(foreground_index_list, n_foreground)\n",
        "else:\n",
        "    select_pos_index_list = foreground_index_list\n",
        "\n",
        "# sample background examples if we don't have enough positive examples to match the anchor batch size\n",
        "if len(foreground_index_list) < n_foreground:\n",
        "    diff = n_foreground - len(foreground_index_list)\n",
        "    # add remaining value to background examples\n",
        "    n_backgroud += diff\n",
        "\n",
        "# check if we have excessive background samples\n",
        "if len(background_index_list) > n_backgroud:\n",
        "    # randomly sample remaining proposals as negative\n",
        "    select_neg_index_list = np.random.choice(background_index_list, n_backgroud)\n",
        "else:\n",
        "    select_neg_index_list = background_index_list\n",
        "\n",
        "# combine both the index list, foreground and background\n",
        "keep = np.hstack([select_pos_index_list, select_neg_index_list])"
      ],
      "execution_count": 75,
      "outputs": []
    },
    {
      "cell_type": "code",
      "metadata": {
        "id": "zSeOS2zT81od"
      },
      "source": [
        "# select corresponding proposals and labels\n",
        "sample_roi = roi_sorted[keep]\n",
        "gt_roi_labels = gt_roi_label[keep]\n",
        "# mark the background classes\n",
        "gt_roi_labels[select_pos_index_list.shape[0]:] = 0"
      ],
      "execution_count": 76,
      "outputs": []
    },
    {
      "cell_type": "code",
      "metadata": {
        "scrolled": false,
        "id": "YtDwqNFW81od",
        "outputId": "f16667ce-bd77-4e30-e096-7bcf1c092e95",
        "colab": {
          "base_uri": "https://localhost:8080/",
          "height": 269
        }
      },
      "source": [
        "# visualizing foreground proposals\n",
        "img_ = np.copy(img)\n",
        "\n",
        "for i in range(18):  # 5625// 2\n",
        "    # visualizing foreground proposals\n",
        "    x_min = int(sample_roi[i][0])\n",
        "    y_min = int(sample_roi[i][1])\n",
        "    x_max = int(sample_roi[i][2])\n",
        "    y_max = int(sample_roi[i][3])\n",
        "    cv2.rectangle(img_, (x_min, y_min), (x_max, y_max), color=(255, 0, 0), thickness=3) \n",
        "\n",
        "for i, bbox in enumerate(bbox_list):\n",
        "    cv2.rectangle(img_, (bbox[0], bbox[1]), (bbox[2], bbox[3]), color=(0, 255, 0), thickness=3)\n",
        "\n",
        "plt.imshow(img_)\n",
        "plt.show()"
      ],
      "execution_count": 77,
      "outputs": [
        {
          "output_type": "display_data",
          "data": {
            "text/plain": [
              "<Figure size 432x288 with 1 Axes>"
            ],
            "image/png": "[encoded data removed]"
          },
          "metadata": {
            "needs_background": "light"
          }
        }
      ]
    },
    {
      "cell_type": "code",
      "metadata": {
        "id": "mn_mSmt781oe",
        "outputId": "f94920dd-8299-4c90-eb65-692c952ad072",
        "colab": {
          "base_uri": "https://localhost:8080/",
          "height": 269
        }
      },
      "source": [
        "# visualizing background proposals\n",
        "img_ = np.copy(img)\n",
        "\n",
        "for i in range(128):  # 5625// 2\n",
        "    x_min = int(sample_roi[i][0])\n",
        "    y_min = int(sample_roi[i][1])\n",
        "    x_max = int(sample_roi[i][2])\n",
        "    y_max = int(sample_roi[i][3])\n",
        "    cv2.rectangle(img_, (x_min, y_min), (x_max, y_max), color=(255, 0, 0), thickness=3) \n",
        "\n",
        "for i, bbox in enumerate(bbox_list):\n",
        "    cv2.rectangle(img_, (bbox[0], bbox[1]), (bbox[2], bbox[3]), color=(0, 255, 0), thickness=3)\n",
        "\n",
        "plt.imshow(img_)\n",
        "plt.show()"
      ],
      "execution_count": 78,
      "outputs": [
        {
          "output_type": "display_data",
          "data": {
            "text/plain": [
              "<Figure size 432x288 with 1 Axes>"
            ],
            "image/png": "[encoded data removed]"
          },
          "metadata": {
            "needs_background": "light"
          }
        }
      ]
    },
    {
      "cell_type": "markdown",
      "metadata": {
        "id": "rRRKqVFt81oe"
      },
      "source": [
        "# References, Sources and Citations\n",
        "https://medium.com/@fractaldle/guide-to-build-faster-rcnn-in-pytorch-95b10c273439"
      ]
    }
  ]
}